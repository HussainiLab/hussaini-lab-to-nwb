{
 "cells": [
  {
   "cell_type": "markdown",
   "id": "bc877b98",
   "metadata": {},
   "source": [
    "<a id=\"index\"></a>\n",
    "# A modular processing pipeline for spike sorting from axona raw data"
   ]
  },
  {
   "cell_type": "markdown",
   "id": "c970803f",
   "metadata": {},
   "source": [
    "In this notebook we will walk through a spike sorting processing pipeline with [SpikeInterface](https://github.com/SpikeInterface) for Axona raw (`.bin`) and axona unit (`.X`) data. There is another notebook for working with Intan data.\n",
    "\n",
    "We will show how to\n",
    "\n",
    "1. [Install `hussaini_lab_to_nwb`](#install_dependencies)\n",
    "2. [load data with spikeextractors](#load_data)\n",
    "3. [Preprocess the signals](#preprocess)\n",
    "4. [Cache data](#cache)\n",
    "5. [Spike sort](#spike_sorting)   \n",
    "   * [Klusta](#klusta)\n",
    "   * [mountainsort4](#mountainsort4)\n",
    "   * [Ironclust](#ironclust)\n",
    "   * [spyking circus](#spykingcircus)\n",
    "   * [tridesclous](#tridesclous)\n",
    "   \n",
    "   \n",
    "6. [Postprocess the signals](#postprocessing)\n",
    "7. [Curate the spike sorting output](#spike_curation) using \n",
    "        1) quality metrics (automatic), \n",
    "        2) [Phy](https://github.com/cortex-lab/phy) (manual), and \n",
    "        3) consensus-based curation\n",
    "8. [Export results to NWB](#export_nwb)\n",
    "9. [Export results to TINT](#export_tint)\n"
   ]
  },
  {
   "cell_type": "markdown",
   "id": "63bfded3",
   "metadata": {
    "id": "68_5oVLpxqC0"
   },
   "source": [
    "<a id='install_dependencies'></a>\n",
    "# Install `hussaini_lab_to_nwb`\n",
    "[back to index](#index)\n",
    "\n",
    "You can install the package and its dependencies with `pip install hussaini_lab_to_nwb`. The dependencies are listed in `requirements.txt`. We recommend installing it in a clean virtual environment (e.g. with `conda` or `venv`) and install the requirements (`pip install -r requirements.txt`) before installing the package. \n",
    "\n",
    "Note that some spike sorters require matlab or additional dependencies, which need to be installed separately. For an overview of possible spike sorters and their dependencies see https://spikeinterface.readthedocs.io/en/latest/sortersinfo.html. The `requirements_sorters.txt` allows you to get \"klusta\", \"spyking-circus\", \"tridesclous\", and \"mountainsort4\" installed in one shot."
   ]
  },
  {
   "cell_type": "markdown",
   "id": "6797c2a7",
   "metadata": {
    "id": "bisIQYVyr1aT"
   },
   "source": [
    "### Import packages"
   ]
  },
  {
   "cell_type": "code",
   "execution_count": null,
   "id": "7fa3c332",
   "metadata": {},
   "outputs": [],
   "source": [
    "%load_ext autoreload\n",
    "%autoreload 2"
   ]
  },
  {
   "cell_type": "code",
   "execution_count": null,
   "id": "5b5bad12",
   "metadata": {
    "colab": {
     "base_uri": "https://localhost:8080/"
    },
    "id": "matched-aviation",
    "outputId": "19ee9109-a66b-41b7-b02b-b24b4b30889c",
    "scrolled": true
   },
   "outputs": [],
   "source": [
    "# General data handling and visualization\n",
    "import sys\n",
    "import os\n",
    "import numpy as np\n",
    "import matplotlib\n",
    "import matplotlib.pyplot as plt\n",
    "\n",
    "# SpikeInterface family\n",
    "import spikeextractors as se\n",
    "import spikewidgets as sw\n",
    "import spiketoolkit as st\n",
    "import spikesorters as ss\n",
    "import spikecomparison as sc\n",
    "\n",
    "print(sys.version, sys.platform, sys.executable)"
   ]
  },
  {
   "cell_type": "code",
   "execution_count": null,
   "id": "c29bf97e",
   "metadata": {},
   "outputs": [],
   "source": [
    "import neo\n",
    "from neo.rawio import baserawio"
   ]
  },
  {
   "cell_type": "code",
   "execution_count": null,
   "id": "ea9a9890",
   "metadata": {},
   "outputs": [],
   "source": [
    "%matplotlib inline\n",
    "plt.rcParams[\"figure.figsize\"] = (16, 6)\n",
    "plt.rcParams.update({'font.size':14})"
   ]
  },
  {
   "cell_type": "markdown",
   "id": "2f977c37",
   "metadata": {
    "id": "large-excerpt"
   },
   "source": [
    "<a id='load_data'></a>\n",
    "# 2. Load data\n",
    "[back to index](#index)"
   ]
  },
  {
   "cell_type": "markdown",
   "id": "490d46e6",
   "metadata": {
    "id": "ZGnYmYSs7FKP"
   },
   "source": [
    "Set path and base filename (or `.set` filename) and create an `AxonaRecordingExtractor` (using `.bin` file) or `AxonaUnitRecordingExtractor` (using `.X` files) instance. It is assumed that the files are in the same directory."
   ]
  },
  {
   "cell_type": "code",
   "execution_count": null,
   "id": "84e9a013",
   "metadata": {},
   "outputs": [],
   "source": [
    "use_raw_data = False  # False for reading `.X` data, True for reading `.bin` data"
   ]
  },
  {
   "cell_type": "code",
   "execution_count": null,
   "id": "1db04be7",
   "metadata": {
    "colab": {
     "base_uri": "https://localhost:8080/"
    },
    "id": "covered-rescue",
    "outputId": "6c46c365-0d3b-4e97-db63-a810005bac35"
   },
   "outputs": [],
   "source": [
    "if use_raw_data:\n",
    "    dir_name = r'/mnt/d/freelance-work/catalyst-neuro/hussaini-lab-to-nwb/example_data_raw'\n",
    "    base_filename = '20201004_Raw'\n",
    "else:\n",
    "    dir_name = r'/mnt/d/freelance-work/catalyst-neuro/hussaini-lab-to-nwb/sample_bin_to_tint_no_bin'\n",
    "    base_filename = 'axona_sample'\n",
    "\n",
    "filename = os.path.join(dir_name, base_filename + '.set')\n",
    "print(filename)"
   ]
  },
  {
   "cell_type": "markdown",
   "id": "8f1b26cd",
   "metadata": {},
   "source": [
    "When reading `.X` data, `AxonaUnitRecordingExtractor` fills in the missing data between waveforms with Gaussian noise, which is required for spike sorting later on. The noise standard deviation can be set with the `noise_std` parameter."
   ]
  },
  {
   "cell_type": "code",
   "execution_count": null,
   "id": "b6c959d7",
   "metadata": {
    "id": "mechanical-tonight",
    "scrolled": true
   },
   "outputs": [],
   "source": [
    "if use_raw_data:\n",
    "    recording = se.AxonaRecordingExtractor(filename=filename)\n",
    "else:\n",
    "    recording = se.AxonaUnitRecordingExtractor(filename=filename, noise_std=15)"
   ]
  },
  {
   "cell_type": "markdown",
   "id": "76a214e7",
   "metadata": {},
   "source": [
    "A `RecordingExtractor` object extracts information about channel ids, channel locations (if present), the sampling frequency of the recording, and the extracellular traces (when prompted). Below we illustrate a few useful methods that describe this particular recording."
   ]
  },
  {
   "cell_type": "code",
   "execution_count": null,
   "id": "c3757f6d",
   "metadata": {
    "colab": {
     "base_uri": "https://localhost:8080/"
    },
    "id": "convinced-freeware",
    "outputId": "3dc8056f-0bc3-4531-9a76-8c5b3c69cfe6"
   },
   "outputs": [],
   "source": [
    "print('Type of recorindextractor:', type(recording))\n",
    "print('Channel ids: {}'.format(recording.get_channel_ids()))\n",
    "print('Num. channels = {}'.format(len(recording.get_channel_ids())))\n",
    "print('Sampling frequency = {} Hz'.format(recording.get_sampling_frequency()))\n",
    "print('Num. samples = {}'.format(recording.get_num_frames()))\n",
    "print('Stdev. on third channel = {}'.format(np.std(recording.get_traces(\n",
    "    start_frame=0, end_frame=48000, channel_ids=2))))"
   ]
  },
  {
   "cell_type": "markdown",
   "id": "4f478788",
   "metadata": {
    "id": "W_sIsLkcYnCP"
   },
   "source": [
    "The `spikewidgets` module includes several convenient plotting functions that can be used to explore the data, for instance by visualizing snippets of data in the time domain:"
   ]
  },
  {
   "cell_type": "code",
   "execution_count": null,
   "id": "4155453d",
   "metadata": {
    "colab": {
     "base_uri": "https://localhost:8080/",
     "height": 515
    },
    "id": "described-barcelona",
    "outputId": "a079470c-5db5-4187-eca1-5b039a484a38"
   },
   "outputs": [],
   "source": [
    "w_ts = sw.plot_timeseries(recording, trange=[0.4, 0.8])"
   ]
  },
  {
   "cell_type": "markdown",
   "id": "71257e44",
   "metadata": {
    "id": "XicpUe1hZAWX"
   },
   "source": [
    "Or in the frequency domain:"
   ]
  },
  {
   "cell_type": "code",
   "execution_count": null,
   "id": "67b3fd6f",
   "metadata": {
    "colab": {
     "base_uri": "https://localhost:8080/",
     "height": 515
    },
    "id": "empirical-hearing",
    "outputId": "7e2f4db1-3720-4d27-a0dd-11d402350970"
   },
   "outputs": [],
   "source": [
    "w_sp = sw.plot_spectrum(recording, trange=[0, 5], channels=[1, 2, 3, 4, 5, 6, 7, 8])"
   ]
  },
  {
   "cell_type": "markdown",
   "id": "67cc540b",
   "metadata": {
    "id": "WZj10iA-ZdAJ"
   },
   "source": [
    "It often makes sense to group electrodes together, for instance if they belong to the same tetrode. When reading Axona data channels are automatically grouped by tetrode membership by reading the information form the `.set` file. If desired, or if using a different recording system where groups are not automatically assigned, the `set_channel_groups()` method can be used. Correspondingly, we can view the `group` property using the `get_channel_groups` method. \n",
    "\n",
    "An alternative way to obtain channel groups is by loading a so called `.prb` file containing channel grouping and physical channel locations. We do not need it here, but it is well explained in this [spikeinterface tutorial](https://github.com/SpikeInterface/spiketutorials/blob/master/NWB_Developer_Breakout_Session_Sep2020/SpikeInterface_Tutorial.ipynb)."
   ]
  },
  {
   "cell_type": "code",
   "execution_count": null,
   "id": "eacb67d3",
   "metadata": {
    "colab": {
     "base_uri": "https://localhost:8080/"
    },
    "id": "developmental-thousand",
    "outputId": "67ed1ac0-8fb3-4c07-f0f7-baa34c6a1b47"
   },
   "outputs": [],
   "source": [
    "print(f'Channel groups:\\n{recording.get_channel_groups()}')"
   ]
  },
  {
   "cell_type": "markdown",
   "id": "ba91998d",
   "metadata": {
    "id": "remarkable-sewing"
   },
   "source": [
    "Some spike sorters (e.g. ironclust) require channel locations. So we will create a fake geometry keeping electrodes on single tetrodes close together. One could use a `.prb` file to accomplish this, but we will simply assign locations with the `set_channel_locations()` method. If the actual geometry is known, you can of course use that instead. "
   ]
  },
  {
   "cell_type": "code",
   "execution_count": null,
   "id": "31b8d3d6",
   "metadata": {
    "id": "nominated-terror"
   },
   "outputs": [],
   "source": [
    "recording.set_channel_locations(locations=[[0,0],[0,1],[0,2],[0,3],\n",
    "                                           [0,10],[0,11],[0,12],[0,13],\n",
    "                                           [0,20],[0,21],[0,22],[0,23],\n",
    "                                           [0,30],[0,31],[0,32],[0,33]],\n",
    "                                channel_ids=recording.get_channel_ids())"
   ]
  },
  {
   "cell_type": "markdown",
   "id": "918b633f",
   "metadata": {
    "id": "Idpx--IPcDaC"
   },
   "source": [
    "We now have the additional channel property `location`."
   ]
  },
  {
   "cell_type": "code",
   "execution_count": null,
   "id": "70e6936f",
   "metadata": {
    "colab": {
     "base_uri": "https://localhost:8080/"
    },
    "id": "impressive-continent",
    "outputId": "c5b6e7ac-2026-4c89-caa7-af07ea19ae04",
    "scrolled": true
   },
   "outputs": [],
   "source": [
    "print('Channel ids:', recording.get_channel_ids())\n",
    "print('Loaded properties', recording.get_shared_channel_property_names())\n",
    "\n",
    "# 'group' and 'location' can be returned as lists:\n",
    "print('Channel groups:', recording.get_channel_groups())\n",
    "print('Channel locations:\\n', recording.get_channel_locations())"
   ]
  },
  {
   "cell_type": "markdown",
   "id": "fe1c6625",
   "metadata": {
    "id": "FD0X7QzRcfrJ"
   },
   "source": [
    "And we can visualize the electrode locations with spikewidgets:"
   ]
  },
  {
   "cell_type": "code",
   "execution_count": null,
   "id": "77bcba93",
   "metadata": {
    "colab": {
     "base_uri": "https://localhost:8080/",
     "height": 85
    },
    "id": "extra-lover",
    "outputId": "96697da9-26fc-4f93-ac30-be156c38a2c2"
   },
   "outputs": [],
   "source": [
    "fh = plt.figure(figsize=(1,6))\n",
    "w_elec = sw.plot_electrode_geometry(recording, figure=fh)"
   ]
  },
  {
   "cell_type": "markdown",
   "id": "0a89033f",
   "metadata": {},
   "source": [
    "### Properties (and features)\n",
    "\n",
    "For now we have seen that the `RecordingExtractor` can have `group` and `location` *properies*. These are very special properties that can be very important for spike sorting. But anything related to a channel can be saved as a property.\n",
    "\n",
    "Similarly, for `SortingExtractor` objects, anything related to a unit can be stored as a property. In addition, for `SortingExtractor` objects we can also store anything related to spikes as *features* (e.g. waveforms, as we'll see later).\n",
    "\n",
    "We can check which properties are in the extractor as follows:"
   ]
  },
  {
   "cell_type": "code",
   "execution_count": null,
   "id": "a82ee957",
   "metadata": {
    "colab": {
     "base_uri": "https://localhost:8080/"
    },
    "id": "placed-equality",
    "outputId": "09e832f4-c625-45e0-e759-70eba95dead2"
   },
   "outputs": [],
   "source": [
    "print('Shared channel property names')\n",
    "print(recording.get_shared_channel_property_names())"
   ]
  },
  {
   "cell_type": "markdown",
   "id": "2d482efa",
   "metadata": {
    "id": "tight-toddler"
   },
   "source": [
    "<a id='preprocess'></a>\n",
    "# 3. Preprocessing\n",
    "[back to index](#index)"
   ]
  },
  {
   "cell_type": "markdown",
   "id": "8ac26964",
   "metadata": {
    "id": "gLFcbetfdKRw"
   },
   "source": [
    "Next, we will perform a few preprocessing steps using `spiketoolkit`.\n",
    "\n",
    "We can filter the recordings, rereference the signals to remove noise, discard noisy channels, whiten the data, remove stimulation artifacts, and more (see [here](https://spiketoolkit.readthedocs.io/en/latest/preprocessing_example.html)).\n",
    "\n",
    "For this notebook, we will filter the recordings, apply common median reference (CMR) and remove noisy channels (for illustration purposes). All preprocessing modules return new `RecordingExtractor` objects that apply the underlying preprocessing function. This allows users to access the preprocessed data in the same way as the raw data."
   ]
  },
  {
   "cell_type": "markdown",
   "id": "ee430a16",
   "metadata": {
    "id": "invisible-strengthening"
   },
   "source": [
    "### Bandpass filter"
   ]
  },
  {
   "cell_type": "code",
   "execution_count": null,
   "id": "209fe19b",
   "metadata": {
    "colab": {
     "base_uri": "https://localhost:8080/",
     "height": 515
    },
    "id": "fixed-eugene",
    "outputId": "9a00cfd1-fadb-47a5-b777-6b04b38ce80a"
   },
   "outputs": [],
   "source": [
    "r_filt = st.preprocessing.bandpass_filter(recording, freq_min=300, freq_max=6000)\n",
    "\n",
    "w = sw.plot_timeseries(r_filt, trange=[0.4, 0.8], color_groups=True)"
   ]
  },
  {
   "cell_type": "markdown",
   "id": "159e40a7",
   "metadata": {
    "id": "outdoor-porter"
   },
   "source": [
    "### Common median reference (CMR)"
   ]
  },
  {
   "cell_type": "markdown",
   "id": "bd4f8ec5",
   "metadata": {
    "id": "AqxhdcAJdnZ0"
   },
   "source": [
    "It is often desirable to use a common median reference to remove noise common to all channels."
   ]
  },
  {
   "cell_type": "code",
   "execution_count": null,
   "id": "5bb399a4",
   "metadata": {
    "colab": {
     "base_uri": "https://localhost:8080/",
     "height": 515
    },
    "id": "joint-friend",
    "outputId": "38316bc9-9d28-4637-ad9c-c67677aaaf99"
   },
   "outputs": [],
   "source": [
    "r_cmr = st.preprocessing.common_reference(r_filt, reference='median')\n",
    "w = sw.plot_timeseries(r_cmr, trange=[0.4, 0.8], color_groups=True)"
   ]
  },
  {
   "cell_type": "markdown",
   "id": "c2c9bd84",
   "metadata": {},
   "source": [
    "### Remove bad channels"
   ]
  },
  {
   "cell_type": "markdown",
   "id": "7b2e39db",
   "metadata": {
    "id": "assisted-numbers"
   },
   "source": [
    "Some channels look more noisy than others. This could negatively influence the spike sorters, so let's remove some of the noisier channels (of course for actual analyses it might be better to use a more objective approach). We can do so as follows (alternatively we could create a `SubRecordingExtractor` and specify the channel IDs to keep):"
   ]
  },
  {
   "cell_type": "code",
   "execution_count": null,
   "id": "1046ab2c",
   "metadata": {},
   "outputs": [],
   "source": [
    "channel_ids = np.array(r_cmr.get_channel_ids())\n",
    "r_good_channels = st.preprocessing.remove_bad_channels(r_cmr, bad_channel_ids=channel_ids[[0, 3, 5]])\n",
    "print(f'Channel ids after removing bad channel: {r_good_channels.get_channel_ids()}')\n",
    "print(f'Channel groups after removing bad channel: {r_good_channels.get_channel_groups()}')"
   ]
  },
  {
   "cell_type": "code",
   "execution_count": null,
   "id": "3b749ded",
   "metadata": {},
   "outputs": [],
   "source": [
    "w = sw.plot_timeseries(r_good_channels, trange=[0.4, 0.8], color_groups=True)"
   ]
  },
  {
   "cell_type": "markdown",
   "id": "1e955d44",
   "metadata": {},
   "source": [
    "We can also select subsets of data in the time domain with `SubRecordingExtractor`. For illustrative purposes and to speed up computation time of the spike sorters, we will select a 2 min sub-window. \n"
   ]
  },
  {
   "cell_type": "code",
   "execution_count": null,
   "id": "c51098a8",
   "metadata": {
    "id": "daily-rogers"
   },
   "outputs": [],
   "source": [
    "fs = r_cmr.get_sampling_frequency()\n",
    "r_sub = se.SubRecordingExtractor(r_good_channels, start_frame=0*fs, end_frame=120*fs)"
   ]
  },
  {
   "cell_type": "markdown",
   "id": "dd480d9c",
   "metadata": {
    "id": "precise-hawaiian"
   },
   "source": [
    "<a id='cache'></a>\n",
    "# 4. Cache data\n",
    "[back to index](#index)"
   ]
  },
  {
   "cell_type": "markdown",
   "id": "9b1070ba",
   "metadata": {},
   "source": [
    "All operations in SpikeInterface are *lazy*, meaning that they are not performed if not needed. This is why the creation of our filter recording was almost instantaneous. However, to speed up further processing, we might want to perform those operations (eg. filters, CMR, etc.) once and **cache** the processed data to a file. This is particularly important if we are going to extract waveforms, templates, pca scores, or in general *post-process* the results.\n",
    "\n",
    "Note that if the parameter `save_path` is not specified, the cache file will be saved in a temporary folder that will be deleted when the Python session is closed (or the object destroyed). One can get around this by moving the temporary file with `recording_cache.move_to()`, or simply specifying the `save_path` paramter when creating the cache. You can view the directory of the temporary folder with `recording_cache.get_tmp_folder()`."
   ]
  },
  {
   "cell_type": "code",
   "execution_count": null,
   "id": "3c91c3f1",
   "metadata": {
    "id": "curious-hughes"
   },
   "outputs": [],
   "source": [
    "perma_cache_filename = os.path.join(dir_name, 'cached_data_preproc.dat') \n",
    "r_cache = se.CacheRecordingExtractor(r_sub, save_path = perma_cache_filename)\n",
    "print('Temporary folder:\\n{}'.format(r_cache.get_tmp_folder()))"
   ]
  },
  {
   "cell_type": "markdown",
   "id": "def3ed2e",
   "metadata": {},
   "source": [
    "Under the hood, this convenient function is retrieving all the traces (in chunks, to save up some memory), applying the preprocessing steps, and dumping them to a binary temporary file:"
   ]
  },
  {
   "cell_type": "code",
   "execution_count": null,
   "id": "db5aa48c",
   "metadata": {},
   "outputs": [],
   "source": [
    "print(f'Filename: {r_cache.filename}')"
   ]
  },
  {
   "cell_type": "markdown",
   "id": "26e8a0dc",
   "metadata": {},
   "source": [
    "The cached recording has all the previously loaded information:"
   ]
  },
  {
   "cell_type": "code",
   "execution_count": null,
   "id": "9ddaa530",
   "metadata": {
    "colab": {
     "base_uri": "https://localhost:8080/"
    },
    "id": "smoking-kitchen",
    "outputId": "c28213c0-57e0-430f-c10c-35698f32e11f"
   },
   "outputs": [],
   "source": [
    "print(f'Cached channels: {r_cache.get_channel_ids()}')\n",
    "print(f'Cached channels ids: {r_cache.get_channel_ids()}')\n",
    "print(f'Channel groups after caching: {r_cache.get_channel_groups()}')\n",
    "print('Duration of recording in seconds: {}'.format(r_cache.get_num_frames() / r_cache.get_sampling_frequency()))"
   ]
  },
  {
   "cell_type": "markdown",
   "id": "84d72ac3",
   "metadata": {},
   "source": [
    "If we now closed the Python session, we would have a nice `.dat` file, but no information on how to open it! \n",
    "In order to save the state of an extractor, we can use the **dumping** mechanism.\n",
    "Each extractor can be converted to a dictionary, which holds the path to the data file and all relevant information:"
   ]
  },
  {
   "cell_type": "code",
   "execution_count": null,
   "id": "d1ed6208",
   "metadata": {},
   "outputs": [],
   "source": [
    "r_cache.dump_to_dict()"
   ]
  },
  {
   "cell_type": "markdown",
   "id": "eafbdcb3",
   "metadata": {},
   "source": [
    "We can now dump our extractor object, so it can be loaded in a future session. We can dump either to `.json` or to `.pkl`. Dumping to pickle also allows us to store properties (other than group and locations) and features (for `SortingExtractor` objects)."
   ]
  },
  {
   "cell_type": "code",
   "execution_count": null,
   "id": "af2c95ae",
   "metadata": {
    "id": "egyptian-colorado"
   },
   "outputs": [],
   "source": [
    "r_cache.dump_to_pickle(os.path.join(dir_name, 'cached_data_preproc.pkl'))"
   ]
  },
  {
   "cell_type": "markdown",
   "id": "42857e8a",
   "metadata": {},
   "source": [
    "In another session, we can pick up from where we left by loading the extractor from the pickle file:"
   ]
  },
  {
   "cell_type": "code",
   "execution_count": null,
   "id": "81926401",
   "metadata": {
    "id": "damaged-dimension"
   },
   "outputs": [],
   "source": [
    "r_cache = se.load_extractor_from_pickle(os.path.join(dir_name, 'cached_data_preproc.pkl'))"
   ]
  },
  {
   "cell_type": "code",
   "execution_count": null,
   "id": "f2cce94d",
   "metadata": {
    "colab": {
     "base_uri": "https://localhost:8080/"
    },
    "id": "widespread-storage",
    "outputId": "6b0dd01b-a6b3-45fc-d646-fa19d5ce42d8"
   },
   "outputs": [],
   "source": [
    "print(f'Cached channels ids: {r_cache.get_channel_ids()}')\n",
    "print(f'Channel groups after caching: {r_cache.get_channel_groups()}')\n",
    "print('Duration of recording in seconds: {}'.format(r_cache.get_num_frames() / r_cache.get_sampling_frequency()))"
   ]
  },
  {
   "cell_type": "markdown",
   "id": "c0b1c148",
   "metadata": {},
   "source": [
    "__Note__: the same caching/dumping mechanisms are available also for all `SortingExtractor` objects."
   ]
  },
  {
   "cell_type": "markdown",
   "id": "d48da84d",
   "metadata": {
    "id": "federal-definition"
   },
   "source": [
    "<a id='spike_sorting'></a>\n",
    "# 5. Spike sorting\n",
    "[back to index](#index)"
   ]
  },
  {
   "cell_type": "markdown",
   "id": "75cc7c4a",
   "metadata": {},
   "source": [
    "We will now run spike sorting on the above recording (`r_cache`). We will show code for `klusta`, `ironclust`, `mountainsort4`, `spykingcircus` and `trideclous` for this demonstration, but there are many other spike sorting algorithms available, all of which can be accessed with the same `spikeinterface` API."
   ]
  },
  {
   "cell_type": "markdown",
   "id": "8b437daa",
   "metadata": {
    "id": "akjGt3qmesNJ"
   },
   "source": [
    "First, we need to install the spike sorters we want. There is a complete overview of spike sorters supported by spikeinterface [here](https://spikeinterface.readthedocs.io/en/latest/sortersinfo.html), including installation instructions. Note that not all spikesorters work on every setup. Some require Matlab. Some require CUDA. "
   ]
  },
  {
   "cell_type": "markdown",
   "id": "303f95fb",
   "metadata": {},
   "source": [
    "We can list all installed spike sorting algorithms with the following convenience function."
   ]
  },
  {
   "cell_type": "code",
   "execution_count": null,
   "id": "861e9203",
   "metadata": {
    "colab": {
     "base_uri": "https://localhost:8080/"
    },
    "id": "dying-patient",
    "outputId": "c5e99f46-19fe-4751-f646-932ef2aa0c55"
   },
   "outputs": [],
   "source": [
    "ss.installed_sorters()"
   ]
  },
  {
   "cell_type": "markdown",
   "id": "011e0052",
   "metadata": {
    "id": "initial-richards"
   },
   "source": [
    "<a id='klusta'></a>\n",
    "### Klusta\n",
    "[back to index](#index)"
   ]
  },
  {
   "cell_type": "markdown",
   "id": "910abdc0",
   "metadata": {},
   "source": [
    "We can retrieve the parameters associated with any sorter with the `get_default_params()` function from the `spikesorters` module, as well as corresponding parameter descriptions using `get_params_description()`."
   ]
  },
  {
   "cell_type": "code",
   "execution_count": null,
   "id": "ec682477",
   "metadata": {
    "id": "military-oliver",
    "outputId": "aae56897-f66d-4631-c342-50ba6fb22203"
   },
   "outputs": [],
   "source": [
    "ss.get_default_params('klusta')"
   ]
  },
  {
   "cell_type": "code",
   "execution_count": null,
   "id": "62540268",
   "metadata": {
    "id": "located-complex",
    "outputId": "89634d39-a76c-462e-efff-1093d27a541f"
   },
   "outputs": [],
   "source": [
    "ss.get_params_description('klusta')"
   ]
  },
  {
   "cell_type": "code",
   "execution_count": null,
   "id": "22b48ab5",
   "metadata": {
    "id": "proved-suite"
   },
   "outputs": [],
   "source": [
    "ss.run_sorter?"
   ]
  },
  {
   "cell_type": "code",
   "execution_count": null,
   "id": "fe8131c1",
   "metadata": {
    "id": "tough-lucas"
   },
   "outputs": [],
   "source": [
    "ss.run_klusta?"
   ]
  },
  {
   "cell_type": "markdown",
   "id": "fb888b4a",
   "metadata": {},
   "source": [
    "Since we have tetrodes and we know that they are physically apart, we would like to sort them separately as follows, assigning the `group` property to the `grouping_property` parameter:"
   ]
  },
  {
   "cell_type": "code",
   "execution_count": null,
   "id": "3e5a2ca7",
   "metadata": {
    "id": "original-bacteria",
    "outputId": "fc3e8035-70aa-414a-8840-f3681f32682a"
   },
   "outputs": [],
   "source": [
    "sorting_KL = ss.run_klusta(\n",
    "    r_cache,\n",
    "    adjacency_radius=5,\n",
    "    output_folder=os.path.join(dir_name, 'klusta_by_group'),\n",
    "    grouping_property='group',\n",
    "    parallel=True\n",
    ")\n",
    "print(f'Klusta found {len(sorting_KL.get_unit_ids())} units')"
   ]
  },
  {
   "cell_type": "markdown",
   "id": "33db9dc0",
   "metadata": {},
   "source": [
    "Below you can see that when the `grouping_property` is used a `MultiSortingExtractor` object is returned, containing several `SortingExtractor` objects, which were created separately for each group. "
   ]
  },
  {
   "cell_type": "code",
   "execution_count": null,
   "id": "ec2db1e4",
   "metadata": {},
   "outputs": [],
   "source": [
    "print(type(sorting_KL))\n",
    "print(type(sorting_KL.sortings[0]))"
   ]
  },
  {
   "cell_type": "code",
   "execution_count": null,
   "id": "53a8fa5b",
   "metadata": {
    "id": "shaped-mandate",
    "outputId": "f22449fd-586e-467a-9fd6-cd7e97b572a8"
   },
   "outputs": [],
   "source": [
    "print(f'Klusta unit ids (with groups): {sorting_KL.get_unit_ids()}')"
   ]
  },
  {
   "cell_type": "code",
   "execution_count": null,
   "id": "fbc1215a",
   "metadata": {
    "id": "rapid-energy",
    "outputId": "c47c0fe7-2d9e-4b04-9f0b-873d697e4091"
   },
   "outputs": [],
   "source": [
    "print(f'Spike train of a unit: {sorting_KL.get_unit_spike_train(1)}')"
   ]
  },
  {
   "cell_type": "markdown",
   "id": "d5229291",
   "metadata": {},
   "source": [
    "We can also visually inspect the data using raster plots."
   ]
  },
  {
   "cell_type": "code",
   "execution_count": null,
   "id": "583a8e01",
   "metadata": {},
   "outputs": [],
   "source": [
    "w_rs = sw.plot_rasters(sorting_KL, trange=[0.4, 0.8])"
   ]
  },
  {
   "cell_type": "markdown",
   "id": "92a898e0",
   "metadata": {},
   "source": [
    "We can plot the temporal data for comparison, though it can be quite difficult to visually make out spiking events in noisy data. We will see more rigorous ways for assessing spike sorting outputs later on."
   ]
  },
  {
   "cell_type": "code",
   "execution_count": null,
   "id": "8e884a50",
   "metadata": {},
   "outputs": [],
   "source": [
    "w = sw.plot_timeseries(r_cache, trange=[0.4, 0.8], color_groups=True)"
   ]
  },
  {
   "cell_type": "markdown",
   "id": "c1fc379b",
   "metadata": {},
   "source": [
    "### Loading spike sorting output from a spike sorting folder\n",
    "\n",
    "If a spike sorter has been run, you can reload the output as a `SortingExtractor` using the corresponding `spikeextractors` class. Note that if sorting by group/property, single groups must be loaded separately:"
   ]
  },
  {
   "cell_type": "code",
   "execution_count": null,
   "id": "3e7c9933",
   "metadata": {
    "id": "regulation-saudi",
    "outputId": "5cf50ad2-bdbd-489e-b40b-5e17d1b2d7eb"
   },
   "outputs": [],
   "source": [
    "sorting_KL_grp = []\n",
    "for i in range(0, 3):\n",
    "    sorting_KL_grp.append(se.KlustaSortingExtractor(os.path.join(dir_name, 'klusta_by_group', str(i))))"
   ]
  },
  {
   "cell_type": "code",
   "execution_count": null,
   "id": "8a61672b",
   "metadata": {
    "id": "surface-austria",
    "outputId": "7a7fd747-5f12-47c5-93a9-97926988756f"
   },
   "outputs": [],
   "source": [
    "sorting_KL_grp\n",
    "sorting_KL = se.MultiSortingExtractor(sorting_KL_grp)"
   ]
  },
  {
   "cell_type": "code",
   "execution_count": null,
   "id": "36db4f18",
   "metadata": {},
   "outputs": [],
   "source": [
    "sorting_KL"
   ]
  },
  {
   "cell_type": "code",
   "execution_count": null,
   "id": "7fe93250",
   "metadata": {
    "id": "daily-athletics",
    "outputId": "a5d715e6-688f-475d-e0ef-83a5f6f6703b"
   },
   "outputs": [],
   "source": [
    "print(f'Klusta unit ids group 0: {sorting_KL_grp[0].get_unit_ids()}')"
   ]
  },
  {
   "cell_type": "markdown",
   "id": "424090e9",
   "metadata": {},
   "source": [
    "### Saving and loading spike sorting output"
   ]
  },
  {
   "cell_type": "markdown",
   "id": "20a5d332",
   "metadata": {},
   "source": [
    "It is also possible to save spike sorting output in a format of a different spike sorter using the `write_sorting()` method of the sorting extractor of interest. For instance, below we are saving the output from `klusta` in `mountainsort` format. "
   ]
  },
  {
   "cell_type": "code",
   "execution_count": null,
   "id": "2d9d3e83",
   "metadata": {},
   "outputs": [],
   "source": [
    "sort_cache = se.CacheSortingExtractor(sorting_KL, save_path=os.path.join(dir_name, 'cached_sorting_KL.npz'))\n",
    "\n",
    "sort_cache.dump_to_pickle(os.path.join(dir_name, 'cached_sorting_KL.pkl'))"
   ]
  },
  {
   "cell_type": "markdown",
   "id": "44cbe7cf",
   "metadata": {},
   "source": [
    "Re-read data from file."
   ]
  },
  {
   "cell_type": "code",
   "execution_count": null,
   "id": "e32bebe9",
   "metadata": {},
   "outputs": [],
   "source": [
    "sorting_KL = se.load_extractor_from_pickle(os.path.join(dir_name, 'cached_sorting_KL.pkl'))\n",
    "\n",
    "print('Unit ids = {}'.format(sorting_KL.get_unit_ids()))\n",
    "spike_train = sorting_KL.get_unit_spike_train(unit_id=1)\n",
    "print('Num. events for unit 1 = {}'.format(len(spike_train)))\n",
    "spike_train1 = sorting_KL.get_unit_spike_train(unit_id=1, start_frame=0, end_frame=30000)\n",
    "print('Num. events for first second of unit 1 = {}'.format(len(spike_train1)))"
   ]
  },
  {
   "cell_type": "markdown",
   "id": "856afb48",
   "metadata": {
    "id": "disabled-stand"
   },
   "source": [
    "<a id='mountainsort4'></a>\n",
    "### Mountainsort4\n",
    "[back to index](#index)"
   ]
  },
  {
   "cell_type": "markdown",
   "id": "a97d9f6e",
   "metadata": {},
   "source": [
    "Let's see if mountainsort is indeed installed."
   ]
  },
  {
   "cell_type": "code",
   "execution_count": null,
   "id": "3f1e3559",
   "metadata": {},
   "outputs": [],
   "source": [
    "ss.installed_sorters()"
   ]
  },
  {
   "cell_type": "code",
   "execution_count": null,
   "id": "49c2a3e8",
   "metadata": {
    "id": "legal-montreal",
    "outputId": "a38c3335-718e-4b13-ad12-a1dc03608304"
   },
   "outputs": [],
   "source": [
    "ss.get_default_params('mountainsort4')"
   ]
  },
  {
   "cell_type": "code",
   "execution_count": null,
   "id": "8310b8f2",
   "metadata": {
    "id": "allied-restaurant",
    "outputId": "0235413c-f583-47ab-eff8-3068f0b52068"
   },
   "outputs": [],
   "source": [
    "ss.get_params_description('mountainsort4')"
   ]
  },
  {
   "cell_type": "code",
   "execution_count": null,
   "id": "f7230a38",
   "metadata": {
    "id": "accessible-forest",
    "outputId": "8f6bf37d-7eb3-4d31-ce37-7a1cf04289c6",
    "scrolled": true
   },
   "outputs": [],
   "source": [
    "sorting_MS4 = ss.run_mountainsort4(\n",
    "    r_cache,\n",
    "    os.path.join(dir_name, 'mountainsort4_group'),\n",
    "    grouping_property='group',\n",
    "    adjacency_radius=5,\n",
    "    parallel=False,  # on my local machine mountainsort fails when parallel=True, that is not generally the case\n",
    "    verbose=True,\n",
    "    filter=False\n",
    ")\n",
    "print(f'Mountainsort4 found {len(sorting_MS4.get_unit_ids())} units')"
   ]
  },
  {
   "cell_type": "code",
   "execution_count": null,
   "id": "776d7387",
   "metadata": {
    "id": "occupied-nepal",
    "scrolled": true
   },
   "outputs": [],
   "source": [
    "print(f'Spike train of a unit: {sorting_MS4.get_unit_spike_train(1)}')"
   ]
  },
  {
   "cell_type": "markdown",
   "id": "3bf33de1",
   "metadata": {},
   "source": [
    "Write spike sorting output to disk."
   ]
  },
  {
   "cell_type": "code",
   "execution_count": null,
   "id": "2560f7e4",
   "metadata": {},
   "outputs": [],
   "source": [
    "sort_cache = se.CacheSortingExtractor(sorting_MS4, save_path=os.path.join(dir_name, 'cached_sorting_MS4.npz'))\n",
    "\n",
    "sort_cache.dump_to_pickle(os.path.join(dir_name, 'cached_sorting_MS4.pkl'))"
   ]
  },
  {
   "cell_type": "markdown",
   "id": "2dfe7fba",
   "metadata": {},
   "source": [
    "Load spike sorting output from disk."
   ]
  },
  {
   "cell_type": "code",
   "execution_count": null,
   "id": "3b59f8fb",
   "metadata": {},
   "outputs": [],
   "source": [
    "sorting_MS4 = se.load_extractor_from_pickle(os.path.join(dir_name, 'cached_sorting_MS4.pkl'))"
   ]
  },
  {
   "cell_type": "markdown",
   "id": "aa3b760e",
   "metadata": {
    "id": "honey-bangladesh"
   },
   "source": [
    "<a id='ironclust'></a>\n",
    "### Ironclust\n",
    "[back to index](#index)"
   ]
  },
  {
   "cell_type": "markdown",
   "id": "e23e2cd2",
   "metadata": {},
   "source": [
    "If you haven't already, clone Ironclust github repository to a path of your choice. Here we stay in the same directory. "
   ]
  },
  {
   "cell_type": "code",
   "execution_count": null,
   "id": "e88459d8",
   "metadata": {},
   "outputs": [],
   "source": [
    "ss.get_default_params('ironclust')"
   ]
  },
  {
   "cell_type": "code",
   "execution_count": null,
   "id": "7c95acff",
   "metadata": {},
   "outputs": [],
   "source": [
    "ss.get_params_description('ironclust')"
   ]
  },
  {
   "cell_type": "markdown",
   "id": "a115fdc8",
   "metadata": {},
   "source": [
    "Next, we set the ironclust path."
   ]
  },
  {
   "cell_type": "code",
   "execution_count": null,
   "id": "5bf2fcb0",
   "metadata": {
    "id": "everyday-queen",
    "outputId": "1710a23b-5b8f-4dc9-b9c4-9c1a9d78ca78"
   },
   "outputs": [],
   "source": [
    "ss.IronClustSorter.set_ironclust_path('./ironclust')  # You might need to substitute the appropriate path here\n",
    "ss.IronClustSorter.ironclust_path"
   ]
  },
  {
   "cell_type": "markdown",
   "id": "8acef2ef",
   "metadata": {},
   "source": [
    "Note that we can also set a global environment variable called `IRONCLUST_PATH`. In that case we don't need to set the path in each session because the sorter class looks for this environment variable.\n",
    "\n",
    "Now ironclust should be installed and we can run it:"
   ]
  },
  {
   "cell_type": "code",
   "execution_count": null,
   "id": "741166f3",
   "metadata": {
    "id": "administrative-brief",
    "outputId": "71095edc-fda1-419d-f903-18ab309e1c64"
   },
   "outputs": [],
   "source": [
    "ss.installed_sorters()"
   ]
  },
  {
   "cell_type": "code",
   "execution_count": null,
   "id": "89da41a0",
   "metadata": {
    "id": "integral-bikini",
    "outputId": "c5ac02fa-b46f-4360-c94a-2e903bf7e773",
    "scrolled": false
   },
   "outputs": [],
   "source": [
    "sorting_IC = ss.run_ironclust(\n",
    "    r_cache, \n",
    "    os.path.join(dir_name, 'ironclust_group'), \n",
    "    grouping_property='group', \n",
    "    parallel=True, \n",
    "    verbose=True,\n",
    "    filter=False,  # we already filtered\n",
    "    common_ref_type=None  # we already applied median reference\n",
    ")\n",
    "print(f'IronClust found {len(sorting_IC.get_unit_ids())} units')"
   ]
  },
  {
   "cell_type": "markdown",
   "id": "d709016c",
   "metadata": {},
   "source": [
    "Cache sorting extractor."
   ]
  },
  {
   "cell_type": "code",
   "execution_count": null,
   "id": "3a5371d6",
   "metadata": {},
   "outputs": [],
   "source": [
    "sort_cache = se.CacheSortingExtractor(sorting_IC, save_path=os.path.join(dir_name, 'cached_sorting_IC.npz'))\n",
    "\n",
    "sort_cache.dump_to_pickle(os.path.join(dir_name, 'cached_sorting_IC.pkl'))"
   ]
  },
  {
   "cell_type": "markdown",
   "id": "fb391844",
   "metadata": {},
   "source": [
    "Re-load ironclust sorting extractor from file."
   ]
  },
  {
   "cell_type": "code",
   "execution_count": null,
   "id": "0a057339",
   "metadata": {},
   "outputs": [],
   "source": [
    "sorting_IC = se.load_extractor_from_pickle(os.path.join(dir_name, 'cached_sorting_IC.pkl'))"
   ]
  },
  {
   "cell_type": "markdown",
   "id": "160e749b",
   "metadata": {
    "id": "undefined-satin"
   },
   "source": [
    "<a id='spykingcircus'></a>\n",
    "### SpykingCircus\n",
    "[back to index](#index)"
   ]
  },
  {
   "cell_type": "code",
   "execution_count": null,
   "id": "13529a0f",
   "metadata": {},
   "outputs": [],
   "source": [
    "ss.get_default_params('spykingcircus')"
   ]
  },
  {
   "cell_type": "code",
   "execution_count": null,
   "id": "34441175",
   "metadata": {},
   "outputs": [],
   "source": [
    "ss.get_params_description('spykingcircus')"
   ]
  },
  {
   "cell_type": "code",
   "execution_count": null,
   "id": "bed9b188",
   "metadata": {},
   "outputs": [],
   "source": [
    "ss.installed_sorters()"
   ]
  },
  {
   "cell_type": "code",
   "execution_count": null,
   "id": "c2d61fb5",
   "metadata": {},
   "outputs": [],
   "source": [
    "sorting_SC = ss.run_spykingcircus(\n",
    "    r_cache,\n",
    "    os.path.join(dir_name, 'spykingcircus_group'),\n",
    "    grouping_property='group',\n",
    "    adjacency_radius=5,\n",
    "    parallel=True,\n",
    "    verbose=True,\n",
    "    filter=False\n",
    ")\n",
    "print(f'Spyking Circus found {len(sorting_SC.get_unit_ids())} units')"
   ]
  },
  {
   "cell_type": "markdown",
   "id": "addf21c3",
   "metadata": {},
   "source": [
    "Save spike sorting output."
   ]
  },
  {
   "cell_type": "code",
   "execution_count": null,
   "id": "1cc7d60d",
   "metadata": {},
   "outputs": [],
   "source": [
    "sort_cache = se.CacheSortingExtractor(sorting_SC, save_path=os.path.join(dir_name, 'cached_sorting_SC.npz'))\n",
    "\n",
    "sort_cache.dump_to_pickle(os.path.join(dir_name, 'cached_sorting_SC.pkl'))"
   ]
  },
  {
   "cell_type": "markdown",
   "id": "9770aa6a",
   "metadata": {},
   "source": [
    "Read spyking circus spike sorting output. "
   ]
  },
  {
   "cell_type": "code",
   "execution_count": null,
   "id": "483a644d",
   "metadata": {},
   "outputs": [],
   "source": [
    "sorting_SC = se.load_extractor_from_pickle(os.path.join(dir_name, 'cached_sorting_SC.pkl'))\n",
    "\n",
    "print('Unit ids = {}'.format(sorting_SC.get_unit_ids()))\n",
    "spike_train = sorting_SC.get_unit_spike_train(unit_id=1)\n",
    "print('Num. events for unit 1 = {}'.format(len(spike_train)))\n",
    "spike_train1 = sorting_SC.get_unit_spike_train(unit_id=1, start_frame=0, end_frame=30000)\n",
    "print('Num. events for first second of unit 1 = {}'.format(len(spike_train1)))"
   ]
  },
  {
   "cell_type": "markdown",
   "id": "c0a46c71",
   "metadata": {},
   "source": [
    "<a id='tridesclous'></a>\n",
    "### Tridesclous\n",
    "[back to index](#index)"
   ]
  },
  {
   "cell_type": "markdown",
   "id": "2926b238",
   "metadata": {},
   "source": [
    "If you haven't already, clone Ironclust github repository to a path of your choice. "
   ]
  },
  {
   "cell_type": "code",
   "execution_count": null,
   "id": "ab221547",
   "metadata": {},
   "outputs": [],
   "source": [
    "ss.get_default_params('tridesclous')"
   ]
  },
  {
   "cell_type": "code",
   "execution_count": null,
   "id": "3fafb88e",
   "metadata": {},
   "outputs": [],
   "source": [
    "ss.get_params_description('tridesclous')"
   ]
  },
  {
   "cell_type": "code",
   "execution_count": null,
   "id": "95875a1c",
   "metadata": {},
   "outputs": [],
   "source": [
    "# run spike sorting by group\n",
    "sorting_TRI = ss.run_tridesclous(\n",
    "    r_cache, \n",
    "    os.path.join(dir_name, 'tridescluous_group'), \n",
    "    grouping_property='group', \n",
    "    parallel=True, \n",
    "    verbose=True\n",
    ")\n",
    "print(f'Tridesclous found {len(sorting_TRI.get_unit_ids())} units')"
   ]
  },
  {
   "cell_type": "markdown",
   "id": "d7dec0fe",
   "metadata": {},
   "source": [
    "Export spike sorting output from tridesclous."
   ]
  },
  {
   "cell_type": "code",
   "execution_count": null,
   "id": "5f5b6b5e",
   "metadata": {},
   "outputs": [],
   "source": [
    "sort_cache = se.CacheSortingExtractor(sorting_TRI, save_path=os.path.join(dir_name, 'cached_sorting_TRI.npz'))\n",
    "\n",
    "sort_cache.dump_to_pickle(os.path.join(dir_name, 'cached_sorting_TRI.pkl'))"
   ]
  },
  {
   "cell_type": "markdown",
   "id": "8bdff0ef",
   "metadata": {},
   "source": [
    "Import spike sorting output from tridesclous."
   ]
  },
  {
   "cell_type": "code",
   "execution_count": null,
   "id": "cd003edc",
   "metadata": {},
   "outputs": [],
   "source": [
    "sorting_TRI = se.load_extractor_from_pickle(os.path.join(dir_name, 'cached_sorting_TRI.pkl'))\n",
    "\n",
    "print('Unit ids = {}'.format(sorting_TRI.get_unit_ids()))\n",
    "spike_train = sorting_TRI.get_unit_spike_train(unit_id=1)\n",
    "print('Num. events for unit 1 = {}'.format(len(spike_train)))\n",
    "spike_train1 = sorting_TRI.get_unit_spike_train(unit_id=1, start_frame=0, end_frame=30000)\n",
    "print('Num. events for first second of unit 1 = {}'.format(len(spike_train1)))"
   ]
  },
  {
   "cell_type": "markdown",
   "id": "23ea302b",
   "metadata": {
    "id": "alive-plate"
   },
   "source": [
    "<a id='postprocessing'></a>\n",
    "# 6. Postprocessing\n",
    "[back to index](#index)\n",
    "\n",
    "The `postprocessing` submodule of `spiketoolkit` allows us to extract information from the combination of the recording and sorting extractors. For example, we can extract waveforms, templates, maximum channels and pca scores. In addition, we can compute waveform features that could be used for further processing, e.g. classyfing excitatory-inhibitory neurons. \n",
    "\n",
    "Feel free to also browse the postprocessing [documentation](https://spikeinterface.readthedocs.io/en/latest/modules/toolkit/plot_2_postprocessing.ht) for more details."
   ]
  },
  {
   "cell_type": "markdown",
   "id": "2675c993",
   "metadata": {},
   "source": [
    "Let's start by extracting waveforms."
   ]
  },
  {
   "cell_type": "code",
   "execution_count": null,
   "id": "70106a34",
   "metadata": {},
   "outputs": [],
   "source": [
    "st.postprocessing.get_unit_waveforms?"
   ]
  },
  {
   "cell_type": "code",
   "execution_count": null,
   "id": "3e5c455a",
   "metadata": {
    "id": "binary-twenty",
    "outputId": "a098357d-98cf-4e48-bfdd-cdd7dc32c70c"
   },
   "outputs": [],
   "source": [
    "waveforms = st.postprocessing.get_unit_waveforms(r_cache, sorting_MS4, ms_before=0.2, ms_after=0.8, verbose=True)"
   ]
  },
  {
   "cell_type": "code",
   "execution_count": null,
   "id": "9e88722f",
   "metadata": {
    "id": "backed-cleanup",
    "outputId": "f23978f3-e206-483d-b42f-d36a3ef983e8"
   },
   "outputs": [],
   "source": [
    "waveforms[1].shape"
   ]
  },
  {
   "cell_type": "code",
   "execution_count": null,
   "id": "118f47ed",
   "metadata": {},
   "outputs": [],
   "source": [
    "avg_waveforms = st.postprocessing.get_unit_templates(r_cache, sorting_MS4, max_spikes_per_unit=200,\n",
    "                                                     save_as_property=True, verbose=True)"
   ]
  },
  {
   "cell_type": "code",
   "execution_count": null,
   "id": "33df2df5",
   "metadata": {},
   "outputs": [],
   "source": [
    "fig, ax = plt.subplots(1, 2, figsize=(15,8))\n",
    "\n",
    "ax[0].plot(waveforms[0][:, 0, :].T, color='k', lw=0.3)\n",
    "ax[0].plot(waveforms[1][:, 0, :].T, color='r', lw=0.3)\n",
    "ax[0].plot(waveforms[2][:, 0, :].T, color='b', lw=0.3)\n",
    "ax[0].set_xlabel('Sample', fontsize=16)\n",
    "ax[0].set_ylabel('Amplitude', fontsize=16)\n",
    "ax[0].set_title('Individual waveforms for three sample units', fontsize=16)\n",
    "\n",
    "ax[1].plot(avg_waveforms[0][0].T, color='k', lw=0.3)\n",
    "ax[1].plot(avg_waveforms[1][0].T, color='r', lw=0.3)\n",
    "ax[1].plot(avg_waveforms[2][0].T, color='b', lw=0.3)\n",
    "ax[1].set_xlabel('Sample', fontsize=16)\n",
    "ax[1].set_title('Average waveforms for three sample units', fontsize=16)"
   ]
  },
  {
   "cell_type": "markdown",
   "id": "dd7fd94e",
   "metadata": {},
   "source": [
    "Similarly, we can get templates, maximum channels, and pca scores. \n",
    "When these are computed, they are automatically stored in the `SortingExtractor` object, so that they don't need to be recomputed. \n",
    "\n",
    "Each waveform is associated with a specific spike, so they are saved as spike *features*:\n"
   ]
  },
  {
   "cell_type": "markdown",
   "id": "e3436898",
   "metadata": {},
   "source": [
    "You may have noticed that 300 waveforms were extracted from the spike train of the first unit. However, it has more spikes:"
   ]
  },
  {
   "cell_type": "code",
   "execution_count": null,
   "id": "0abe65db",
   "metadata": {
    "id": "regulation-password",
    "outputId": "d2533c4a-9716-48ab-b552-236ed7126ec8"
   },
   "outputs": [],
   "source": [
    "len(sorting_MS4.get_unit_spike_train(1))"
   ]
  },
  {
   "cell_type": "markdown",
   "id": "37df7cb6",
   "metadata": {},
   "source": [
    "This is because it can be convenient to only compute a subset of waveforms to speed up the calculation. The `waveform_idxs` property contains the spike indexes associated with the waveforms."
   ]
  },
  {
   "cell_type": "code",
   "execution_count": null,
   "id": "de9ecd6f",
   "metadata": {
    "id": "fuzzy-gentleman",
    "outputId": "d7d2ac3d-41e2-44a5-ec4d-1f0badc36389"
   },
   "outputs": [],
   "source": [
    "sorting_MS4.get_shared_unit_spike_feature_names()"
   ]
  },
  {
   "cell_type": "code",
   "execution_count": null,
   "id": "de960373",
   "metadata": {
    "id": "executive-acrylic",
    "outputId": "c278007a-1767-41bd-8485-595ba7dd0dfd"
   },
   "outputs": [],
   "source": [
    "print(sorting_MS4.get_unit_spike_features(1, 'waveforms_idxs'))"
   ]
  },
  {
   "cell_type": "markdown",
   "id": "06d38f24",
   "metadata": {},
   "source": [
    "Since waveforms are already computed, the next time we (or another function - e.g. `get_unit_templates()`) call it it will just return the stored waveforms."
   ]
  },
  {
   "cell_type": "code",
   "execution_count": null,
   "id": "7abcd5ea",
   "metadata": {},
   "outputs": [],
   "source": [
    "waveforms = st.postprocessing.get_unit_waveforms(r_cache, sorting_MS4, verbose=True)"
   ]
  },
  {
   "cell_type": "markdown",
   "id": "b2521661",
   "metadata": {},
   "source": [
    "Lighthing fast! \n",
    "\n",
    "If we want to recompute the waveforms, for example because we want to extract the waveforms divided by group, we can use the `recompute_info` argument (available for all `postprocessing`, `validation`, and `curation` functions)."
   ]
  },
  {
   "cell_type": "markdown",
   "id": "7a35a888",
   "metadata": {},
   "source": [
    "Where are waveforms stored? We have seen above that each `Extractor` object has an associated tmp folder. Waveforms (and other features, e.g. pca scores) are stored in this folder as binary files:"
   ]
  },
  {
   "cell_type": "code",
   "execution_count": null,
   "id": "9da14bb0",
   "metadata": {
    "id": "british-anniversary",
    "outputId": "edca8613-cb64-4c73-ac4a-78bf63fa517f"
   },
   "outputs": [],
   "source": [
    "tmp_folder = sorting_MS4.get_tmp_folder()\n",
    "print(tmp_folder)\n",
    "print([(p.name) for p in tmp_folder.iterdir()])"
   ]
  },
  {
   "cell_type": "code",
   "execution_count": null,
   "id": "e96276f9",
   "metadata": {
    "id": "parliamentary-shame",
    "outputId": "26e7e299-25c5-4e97-da59-04a427a2178d"
   },
   "outputs": [],
   "source": [
    "waveforms_group = st.postprocessing.get_unit_waveforms(\n",
    "    r_cache,\n",
    "    sorting_MS4,\n",
    "    max_spikes_per_unit=None, \n",
    "    grouping_property='group',\n",
    "    recompute_info=True,\n",
    "    verbose=True\n",
    ")"
   ]
  },
  {
   "cell_type": "code",
   "execution_count": null,
   "id": "c559645b",
   "metadata": {
    "id": "parallel-trout",
    "outputId": "f4a8003f-7ddd-40ae-9a21-d800c696d7e4"
   },
   "outputs": [],
   "source": [
    "sorting_MS4.get_shared_unit_property_names()"
   ]
  },
  {
   "cell_type": "code",
   "execution_count": null,
   "id": "ec3030f5",
   "metadata": {
    "id": "saving-forge",
    "outputId": "2dd981f3-c519-499d-b65a-58a73c48573d"
   },
   "outputs": [],
   "source": [
    "for wf in waveforms_group:\n",
    "    print(wf.shape)"
   ]
  },
  {
   "cell_type": "markdown",
   "id": "e323883b",
   "metadata": {},
   "source": [
    "We can use `spikewidgets` to quickly inspect the spike sorting output:"
   ]
  },
  {
   "cell_type": "code",
   "execution_count": null,
   "id": "015b58e5",
   "metadata": {},
   "outputs": [],
   "source": [
    "unit_ids = sorting_MS4.get_unit_ids()"
   ]
  },
  {
   "cell_type": "code",
   "execution_count": null,
   "id": "19f3bda0",
   "metadata": {
    "id": "linear-occasion",
    "outputId": "2dc097bb-17d8-4ef5-af1b-5515adde7410"
   },
   "outputs": [],
   "source": [
    "w_wf = sw.plot_unit_templates(sorting=sorting_MS4, recording=r_cache, unit_ids=unit_ids[0:6])"
   ]
  },
  {
   "cell_type": "code",
   "execution_count": null,
   "id": "91e926e4",
   "metadata": {
    "id": "behind-transmission",
    "outputId": "c6eb8615-7062-4fcb-84ff-c1eefd2f19ef"
   },
   "outputs": [],
   "source": [
    "w_acc = sw.plot_autocorrelograms(sorting_MS4, unit_ids=unit_ids[0:6])"
   ]
  },
  {
   "cell_type": "markdown",
   "id": "4d482181",
   "metadata": {
    "id": "incomplete-bankruptcy"
   },
   "source": [
    "### Compute extracellular features\n",
    "[back to index](#index)\n",
    "\n",
    "Extracellular features, such as peak to valley duration or full-width half maximum, are important to classify neurons into putative classes (excitatory - inhibitory). The `postprocessing` module of `spiketoolkit` allows one to compute several of these features:"
   ]
  },
  {
   "cell_type": "code",
   "execution_count": null,
   "id": "34c2fad1",
   "metadata": {
    "id": "metric-makeup",
    "outputId": "a1ae3196-461f-46ea-aa22-18f7530a803e"
   },
   "outputs": [],
   "source": [
    "st.postprocessing.get_template_features_list()"
   ]
  },
  {
   "cell_type": "code",
   "execution_count": null,
   "id": "95b526b2",
   "metadata": {
    "id": "false-transmission",
    "outputId": "387766f9-6a88-4a29-ab36-5b625b5e04cf"
   },
   "outputs": [],
   "source": [
    "features = st.postprocessing.compute_unit_template_features(\n",
    "    r_cache, \n",
    "    sorting_MS4, \n",
    "    as_dataframe=True, \n",
    "    upsampling_factor=10\n",
    ")\n",
    "display(features)"
   ]
  },
  {
   "cell_type": "markdown",
   "id": "a9d2690a",
   "metadata": {
    "id": "declared-factory"
   },
   "source": [
    "For more information about these waveform features, we refer to this [documentation](https://github.com/AllenInstitute/ecephys_spike_sorting/tree/master/ecephys_spike_sorting/modules/mean_waveforms) from the Allen Institute."
   ]
  },
  {
   "cell_type": "markdown",
   "id": "ad65a0b8",
   "metadata": {},
   "source": [
    "### Validation\n",
    "[back to index](#index)\n",
    "\n",
    "The `spiketoolkit` package also provides several functions to compute qualitity metrics about the spike sorting results through the `validation` module.\n",
    "\n",
    "Let's see what metrics are available:"
   ]
  },
  {
   "cell_type": "code",
   "execution_count": null,
   "id": "aae25751",
   "metadata": {},
   "outputs": [],
   "source": [
    "st.validation.get_quality_metrics_list()"
   ]
  },
  {
   "cell_type": "markdown",
   "id": "48cd0086",
   "metadata": {},
   "source": [
    "We can compute a subset of quality metrics using the `compute_quality_metrics` function. \n"
   ]
  },
  {
   "cell_type": "code",
   "execution_count": null,
   "id": "762188d6",
   "metadata": {
    "id": "duplicate-bicycle",
    "outputId": "1df0e432-5540-4282-cb73-1ebd359be9b1",
    "scrolled": true
   },
   "outputs": [],
   "source": [
    "quality_metrics = st.validation.compute_quality_metrics(\n",
    "    sorting_MS4, \n",
    "    r_cache, \n",
    "    metric_names=['firing_rate', 'isi_violation', 'snr'], \n",
    "    as_dataframe=True\n",
    ")\n",
    "display(quality_metrics)"
   ]
  },
  {
   "cell_type": "markdown",
   "id": "cea6e637",
   "metadata": {
    "id": "injured-affect"
   },
   "source": [
    "<a id=\"spike_curation\"></a>\n",
    "# 7. Curation\n",
    "[back to index](#index)"
   ]
  },
  {
   "cell_type": "markdown",
   "id": "03de9bf0",
   "metadata": {
    "id": "contemporary-riding"
   },
   "source": [
    "### 1) Manual curation using Phy\n",
    "\n",
    "To perform manual curation we will export the data to [Phy](https://github.com/cortex-lab/phy). "
   ]
  },
  {
   "cell_type": "code",
   "execution_count": null,
   "id": "f18ba21e",
   "metadata": {
    "id": "legal-bridal",
    "outputId": "41b64a1f-b896-46ad-dd6d-b34153211c1a"
   },
   "outputs": [],
   "source": [
    "st.postprocessing.export_to_phy(\n",
    "    r_cache, \n",
    "    sorting_MS4, \n",
    "    output_folder='phy_MS4',\n",
    "    grouping_property='group', \n",
    "    verbose=True, \n",
    "    recompute_info=True\n",
    ")"
   ]
  },
  {
   "cell_type": "markdown",
   "id": "366cd013",
   "metadata": {},
   "source": [
    "If you have trouble using the GUI from phy refer to the instructions here: https://github.com/cortex-lab/phy."
   ]
  },
  {
   "cell_type": "code",
   "execution_count": null,
   "id": "6e811732",
   "metadata": {},
   "outputs": [],
   "source": [
    "!phy template-gui phy_MS4/params.py"
   ]
  },
  {
   "cell_type": "markdown",
   "id": "da583c1f",
   "metadata": {
    "id": "agricultural-revelation"
   },
   "source": [
    "After curating the results we can reload it using the PhySortingExtractor:"
   ]
  },
  {
   "cell_type": "code",
   "execution_count": null,
   "id": "1d4ced26",
   "metadata": {
    "id": "scenic-syracuse",
    "outputId": "7cccbbde-62fc-40a2-e34e-fc0dc878012a"
   },
   "outputs": [],
   "source": [
    "sorting_MS4_phy_curated = se.PhySortingExtractor('phy_MS4/', exclude_cluster_groups=['noise'])"
   ]
  },
  {
   "cell_type": "code",
   "execution_count": null,
   "id": "f6ea7b0e",
   "metadata": {
    "id": "presidential-state",
    "outputId": "6face789-1f1c-4139-a942-206aa1f65263"
   },
   "outputs": [],
   "source": [
    "print(len(sorting_MS4_phy_curated.get_unit_ids()))\n",
    "print(f\"Unit ids after manual curation: {sorting_MS4_phy_curated.get_unit_ids()}\")"
   ]
  },
  {
   "cell_type": "code",
   "execution_count": null,
   "id": "3de9030b",
   "metadata": {},
   "outputs": [],
   "source": [
    "_ = [print(sorting_MS4_phy_curated.get_unit_property(i, 'quality')) for i in sorting_MS4_phy_curated.get_unit_ids()]"
   ]
  },
  {
   "cell_type": "markdown",
   "id": "323534ff",
   "metadata": {
    "id": "bulgarian-adult"
   },
   "source": [
    "### b) Automatic curation based on quality metrics\n",
    "[back to index](#index)\n",
    "\n",
    "We will demonstrate here how to select subsets of candidate units based on the quality metrics inter-spike interval (isi) and signal to noise ratio (snr)."
   ]
  },
  {
   "cell_type": "code",
   "execution_count": null,
   "id": "54913f2b",
   "metadata": {},
   "outputs": [],
   "source": [
    "st.curation.threshold_isi_violations?"
   ]
  },
  {
   "cell_type": "code",
   "execution_count": null,
   "id": "7e7fc753",
   "metadata": {
    "id": "dynamic-florist"
   },
   "outputs": [],
   "source": [
    "snr_thresh = 4\n",
    "isi_viol_thresh = 0.0015\n",
    "duration = r_cache.get_num_frames()"
   ]
  },
  {
   "cell_type": "code",
   "execution_count": null,
   "id": "af0693c7",
   "metadata": {},
   "outputs": [],
   "source": [
    "isi_violations = st.validation.compute_isi_violations(\n",
    "    sorting_MS4, \n",
    "    duration_in_frames=r_cache.get_num_frames(), \n",
    "    isi_threshold=0.0015\n",
    ")"
   ]
  },
  {
   "cell_type": "code",
   "execution_count": null,
   "id": "c2a339e8",
   "metadata": {},
   "outputs": [],
   "source": [
    "isi_violations"
   ]
  },
  {
   "cell_type": "code",
   "execution_count": null,
   "id": "ea85698d",
   "metadata": {
    "id": "personal-accessory"
   },
   "outputs": [],
   "source": [
    "sorting_auto_MS4 = st.curation.threshold_isi_violations(sorting_MS4, isi_viol_thresh, 'greater', duration)\n",
    "sorting_auto_SC = st.curation.threshold_isi_violations(sorting_SC, isi_viol_thresh, 'greater', duration)"
   ]
  },
  {
   "cell_type": "code",
   "execution_count": null,
   "id": "c5acd0fb",
   "metadata": {
    "id": "accessible-massage",
    "outputId": "837e3757-5d56-4ed2-d81e-57c97f3aff75"
   },
   "outputs": [],
   "source": [
    "print('Number of units Mountainsort4: {}'.format(len(sorting_auto_MS4.get_unit_ids())))\n",
    "print('Number of units Spyking Circus: {}'.format(len(sorting_auto_SC.get_unit_ids())))"
   ]
  },
  {
   "cell_type": "code",
   "execution_count": null,
   "id": "3729bbc8",
   "metadata": {
    "id": "portable-voice"
   },
   "outputs": [],
   "source": [
    "sorting_auto_MS4 = st.curation.threshold_snrs(sorting_auto_MS4, r_cache, snr_thresh, 'less')\n",
    "sorting_auto_SC = st.curation.threshold_snrs(sorting_auto_SC, r_cache, snr_thresh, 'less')"
   ]
  },
  {
   "cell_type": "code",
   "execution_count": null,
   "id": "416ce3f8",
   "metadata": {
    "id": "assisted-coffee",
    "outputId": "dc03b4b9-c13b-4ad8-814f-d8aa22de3389"
   },
   "outputs": [],
   "source": [
    "print('Number of units Mountainsort4: {}'.format(len(sorting_auto_MS4.get_unit_ids())))\n",
    "print('Number of units Spyking Circus: {}'.format(len(sorting_auto_SC.get_unit_ids())))"
   ]
  },
  {
   "cell_type": "markdown",
   "id": "cb613d94",
   "metadata": {
    "id": "passing-circulation"
   },
   "source": [
    "### c) Consensus-based curation\n",
    "[back to index](#index)"
   ]
  },
  {
   "cell_type": "markdown",
   "id": "636a795d",
   "metadata": {
    "id": "separated-dimension"
   },
   "source": [
    "Can we combine the output of multiple sorters to curate the spike sorting output?\n",
    "\n",
    "Yes, with the `spikecomparison` module we can compare and match the output spike trains of the different sorters, and retrieve a new sorting extractor object containing only the units that were in agreement."
   ]
  },
  {
   "cell_type": "code",
   "execution_count": null,
   "id": "67903969",
   "metadata": {
    "id": "artificial-designer",
    "outputId": "9e9c3e22-7b75-4c1d-fa66-a7944be1516f"
   },
   "outputs": [],
   "source": [
    "mcmp = sc.compare_multiple_sorters(\n",
    "    [sorting_SC, sorting_MS4], \n",
    "    ['SC', 'MS4'], \n",
    "    spiketrain_mode='union',\n",
    "    verbose=True\n",
    ")"
   ]
  },
  {
   "cell_type": "code",
   "execution_count": null,
   "id": "7102807c",
   "metadata": {
    "id": "clear-panel",
    "outputId": "d4d7bff1-f168-4a56-c9d0-56476939c168"
   },
   "outputs": [],
   "source": [
    "w = sw.plot_multicomp_agreement(mcmp)\n",
    "w = sw.plot_multicomp_agreement_by_sorter(mcmp)"
   ]
  },
  {
   "cell_type": "code",
   "execution_count": null,
   "id": "b2b77872",
   "metadata": {
    "id": "economic-county"
   },
   "outputs": [],
   "source": [
    "agreement_sorting = mcmp.get_agreement_sorting(minimum_agreement_count=2)"
   ]
  },
  {
   "cell_type": "code",
   "execution_count": null,
   "id": "be6f6467",
   "metadata": {
    "id": "classical-italy",
    "outputId": "e1475179-3643-4a94-dc2d-735b051253fd"
   },
   "outputs": [],
   "source": [
    "agreement_sorting.get_unit_ids()"
   ]
  },
  {
   "cell_type": "code",
   "execution_count": null,
   "id": "8e550946",
   "metadata": {
    "id": "atomic-notice",
    "outputId": "118ee0af-0c45-441f-dc11-f0e21c0f71c2"
   },
   "outputs": [],
   "source": [
    "cmp_manual_agr = sc.compare_sorter_to_ground_truth(sorting_MS4_phy_curated, agreement_sorting)"
   ]
  },
  {
   "cell_type": "code",
   "execution_count": null,
   "id": "c7f97ab3",
   "metadata": {
    "id": "closing-factory"
   },
   "outputs": [],
   "source": [
    "w_agr = sw.plot_agreement_matrix(cmp_manual_agr)"
   ]
  },
  {
   "cell_type": "code",
   "execution_count": null,
   "id": "b8588dfb",
   "metadata": {},
   "outputs": [],
   "source": [
    "w_wf = sw.plot_unit_templates(sorting=agreement_sorting, recording=r_cache, unit_ids=[1])"
   ]
  },
  {
   "cell_type": "code",
   "execution_count": null,
   "id": "7c4024e9",
   "metadata": {
    "id": "broadband-induction"
   },
   "outputs": [],
   "source": [
    "st.postprocessing.export_to_phy(\n",
    "    r_cache, \n",
    "    agreement_sorting, \n",
    "    output_folder='phy_AGR',\n",
    "    grouping_property='group', \n",
    "    verbose=True, \n",
    "    recompute_info=True\n",
    ")"
   ]
  },
  {
   "cell_type": "markdown",
   "id": "ab714417",
   "metadata": {
    "id": "cognitive-warehouse"
   },
   "source": [
    "<a id=\"export_nwb\"></a>\n",
    "# 7. Save to / load from NWB\n",
    "[back to index](#index)\n",
    "\n",
    "In this section we briefly go through the process of exporting recording extractor and sorting extractor objects to the `nwb` file format. We will use the `spikeextractors` classes `NwbRecordingExtractor` and `NwbSortingExtractor`. It can be useful to pass metadata to the `nwb` file during export (i.e. data that describes the ecephys data in this case) and we illustrate this here by passing information about the recording device."
   ]
  },
  {
   "cell_type": "code",
   "execution_count": null,
   "id": "f5ed5053",
   "metadata": {},
   "outputs": [],
   "source": [
    "from pynwb import NWBFile, NWBHDF5IO\n",
    "from pathlib import Path\n",
    "from nwb_conversion_tools.utils.spike_interface import write_recording, write_sorting"
   ]
  },
  {
   "cell_type": "code",
   "execution_count": null,
   "id": "777d05a1",
   "metadata": {
    "id": "frank-destination"
   },
   "outputs": [],
   "source": [
    "metadata = {'Ecephys': {'Device': [{'name': 'Axona',\n",
    "                                    'description': 'Axona DacqUSB acquisition system'}]}}"
   ]
  },
  {
   "cell_type": "code",
   "execution_count": null,
   "id": "0a059cec",
   "metadata": {},
   "outputs": [],
   "source": [
    "nwb_dir = Path(dir_name, 'nwb')\n",
    "\n",
    "nwb_dir.mkdir(parents=True, exist_ok=True)"
   ]
  },
  {
   "cell_type": "code",
   "execution_count": null,
   "id": "1c9bf562",
   "metadata": {
    "id": "signal-general",
    "scrolled": false
   },
   "outputs": [],
   "source": [
    "write_recording(r_cache, nwb_dir / 'axona_data.nwb', metadata=metadata)"
   ]
  },
  {
   "cell_type": "code",
   "execution_count": null,
   "id": "f70c3b0a",
   "metadata": {
    "id": "similar-amount"
   },
   "outputs": [],
   "source": [
    "write_sorting(sorting_MS4_phy_curated, nwb_dir / 'axona_data.nwb')"
   ]
  },
  {
   "cell_type": "markdown",
   "id": "866f190a",
   "metadata": {},
   "source": [
    "(Re-)load data into recording and sorting extractor."
   ]
  },
  {
   "cell_type": "code",
   "execution_count": null,
   "id": "fc3153ed",
   "metadata": {
    "id": "spatial-stability"
   },
   "outputs": [],
   "source": [
    "recording_nwb = se.NwbRecordingExtractor(nwb_dir / 'axona_data.nwb')"
   ]
  },
  {
   "cell_type": "code",
   "execution_count": null,
   "id": "779edd2f",
   "metadata": {
    "scrolled": true
   },
   "outputs": [],
   "source": [
    "sorting_nwb = se.NwbSortingExtractor(nwb_dir / 'axona_data.nwb', sampling_frequency=48000)"
   ]
  },
  {
   "cell_type": "markdown",
   "id": "79c394ac",
   "metadata": {
    "id": "unexpected-handling"
   },
   "source": [
    "<a id=\"export_tint\"></a>\n",
    "# 8. Save to / load from TINT\n",
    "[back to index](#index)\n",
    "\n",
    "We can export the spike sorted data back to the 'TINT' format in the form of `.X`, `.cut` and `.clu` files. The `.X` files are similar to the tetrode files generated by the Axona acquisition system, except that the spike times are now based on the spike sorting extractor used for the conversion. The `.cut` and `.clu` files contain the unit labels of each spike timestamp.\n",
    "\n",
    "For the conversion to 'TINT' both a sorting extractor and recording extractor are required. Spike times are read from the sorting extractor and the corresponding waveforms are extracted from the recording extractor. It is always preferable to use a recording extractor based on `.bin` data, because spike times extracted from spike sorters might not exactly correspond to spike times from the thresholding procedure that created the `.X` files from the raw data. When spike times do not correspond exactly, part (or in the worst caes all) of the waveforms will consist of Gaussian noise if based on an `AxonaUnitRecordingExtractor`, because time periods between waveforms are filled with noise when the extractor object is created. \n",
    "\n",
    "The `TintConverter` class has the `compare_timestamps_after_conversion()` method to assess the correspondence of timestamps between the `.X` files created from simple thresholding and the `.X` files created using `TintConverter` after spike sorting.\n",
    "\n",
    "We recommend creating a new folder for the output from `TintConverter` if you do not want to overwrite existing `.X` files. In this case you also need to copy the `.set` file into that new folder. "
   ]
  },
  {
   "cell_type": "code",
   "execution_count": null,
   "id": "319ca558",
   "metadata": {
    "id": "narrative-scratch"
   },
   "outputs": [],
   "source": [
    "from hussaini_lab_to_nwb import TintConverter"
   ]
  },
  {
   "cell_type": "markdown",
   "id": "88649c0f",
   "metadata": {},
   "source": [
    "We load the recording from `unit` data with no noise to later compare how well the waveforms from the thresholding procedure correspond to the waveforms after spike sorting. To be able to do this comparison we save the `TintConverter` output to a subfolder `tint_conversion`. We also need to copy the set file into this folder to be able to read the data back in afterwards."
   ]
  },
  {
   "cell_type": "code",
   "execution_count": null,
   "id": "5d27c6b8",
   "metadata": {
    "id": "perfect-herald"
   },
   "outputs": [],
   "source": [
    "if use_raw_data:\n",
    "    recording = se.AxonaRecordingExtractor(filename=filename)\n",
    "else:\n",
    "    recording = se.AxonaUnitRecordingExtractor(filename=filename, noise_std=0)\n",
    "\n",
    "sorting = se.NwbSortingExtractor(nwb_dir / 'axona_data.nwb', sampling_frequency=48000)"
   ]
  },
  {
   "cell_type": "markdown",
   "id": "2364a74e",
   "metadata": {},
   "source": [
    "Create new folder for converted data and copy `.set` file into it."
   ]
  },
  {
   "cell_type": "code",
   "execution_count": null,
   "id": "e9952725",
   "metadata": {
    "id": "weighted-clearance"
   },
   "outputs": [],
   "source": [
    "import shutil\n",
    "\n",
    "output_dir = Path(dir_name, 'tint_conversion')\n",
    "\n",
    "output_dir.mkdir(parents=True, exist_ok=True)\n",
    "\n",
    "shutil.copyfile(filename, output_dir / Path(filename).name)"
   ]
  },
  {
   "cell_type": "markdown",
   "id": "9d3dda36",
   "metadata": {
    "id": "abroad-torture"
   },
   "source": [
    "Convert spike sorted data to TINT format (`.X`, `.cut`, `.clu`). Note that this step can take a while depending on the size of the recording!"
   ]
  },
  {
   "cell_type": "code",
   "execution_count": null,
   "id": "dc6a4d4a",
   "metadata": {
    "id": "overhead-track"
   },
   "outputs": [],
   "source": [
    "tc = TintConverter()\n",
    "tc.write_to_tint(recording=recording,\n",
    "                 sorting=sorting,\n",
    "                 set_file=output_dir / Path(filename).name)"
   ]
  },
  {
   "cell_type": "markdown",
   "id": "6b186c42",
   "metadata": {
    "id": "constitutional-valentine"
   },
   "source": [
    "Finally, we can compare the timestamps from the spike sorted data with the timestamps from the thresholded data (original `.X` files)."
   ]
  },
  {
   "cell_type": "code",
   "execution_count": null,
   "id": "791ae408",
   "metadata": {
    "id": "polyphonic-competition"
   },
   "outputs": [],
   "source": [
    "if not use_raw_data:\n",
    "\n",
    "    df = tc.compare_timestamps_after_conversion(\n",
    "        filename_old=filename,\n",
    "        filename_new=output_dir / Path(filename).name\n",
    "    )\n",
    "\n",
    "    display(df.T)"
   ]
  },
  {
   "cell_type": "markdown",
   "id": "5f4701a6",
   "metadata": {
    "id": "relevant-silicon"
   },
   "source": [
    "---\n",
    "I hope this notebook was helpful to you. If you have any suggestions, questions or concerns do not hesitate to contact me at `steffen.burgers@catalystneuro.com`."
   ]
  }
 ],
 "metadata": {
  "colab": {
   "collapsed_sections": [
    "initial-richards",
    "honey-bangladesh",
    "disabled-stand",
    "naked-affair",
    "intimate-professional",
    "minus-output",
    "infrared-garage",
    "formed-equity",
    "lightweight-tuition",
    "certified-withdrawal",
    "undefined-satin",
    "respiratory-charter",
    "alive-plate",
    "incomplete-bankruptcy",
    "injured-affect",
    "contemporary-riding",
    "bulgarian-adult",
    "passing-circulation",
    "cognitive-warehouse",
    "unexpected-handling"
   ],
   "name": "milestone2_modular_pipeline_colab.ipynb",
   "provenance": []
  },
  "kernelspec": {
   "display_name": "Python 3 (ipykernel)",
   "language": "python",
   "name": "python3"
  },
  "language_info": {
   "codemirror_mode": {
    "name": "ipython",
    "version": 3
   },
   "file_extension": ".py",
   "mimetype": "text/x-python",
   "name": "python",
   "nbconvert_exporter": "python",
   "pygments_lexer": "ipython3",
   "version": "3.8.0"
  }
 },
 "nbformat": 4,
 "nbformat_minor": 5
}
