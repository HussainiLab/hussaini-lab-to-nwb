{
 "cells": [
  {
   "cell_type": "markdown",
   "id": "6658dc45",
   "metadata": {},
   "source": [
    "# How to convert Axona data to NWB\n",
    "\n",
    "In this notebook we show how to convert Axona raw (`.bin` + `.set`) or unit data (`.X`, `.pos`, `.eeg`, `.egf`) to NWB format. Since the Hussaini lab already has tools for extracting unit data from raw data, we implemented conversions based on `.eeg` or `.egf` and `.pos` files for LFP and position data respectively, rather than extracting the information directly from the `.bin` file. \n",
    "\n",
    "For the `.pos` file data this will allow the option for generating a `.pos` file from another recording setup that can then be added to an `nwb` file.\n",
    "\n",
    "For convenience we made a few `NWBConverters` with various input files. Later we will also show how to add data from from e.g. a `.pos` file to an existing NWB file using the appropriate converter."
   ]
  },
  {
   "cell_type": "markdown",
   "id": "54ca292e",
   "metadata": {},
   "source": [
    "### Setting up the environment"
   ]
  },
  {
   "cell_type": "code",
   "execution_count": 1,
   "id": "b36d6adb",
   "metadata": {},
   "outputs": [],
   "source": [
    "%load_ext autoreload\n",
    "%autoreload 2\n",
    "%config Completer.use_jedi = False"
   ]
  },
  {
   "cell_type": "code",
   "execution_count": 2,
   "id": "bb07a20f",
   "metadata": {},
   "outputs": [],
   "source": [
    "import json\n",
    "from pathlib import Path\n",
    "\n",
    "import matplotlib.pyplot as plt\n",
    "from pynwb import NWBHDF5IO\n",
    "from nwbwidgets import nwb2widget"
   ]
  },
  {
   "cell_type": "code",
   "execution_count": 3,
   "id": "3d716e96",
   "metadata": {},
   "outputs": [],
   "source": [
    "# For convenience, make sure to select a set-filename for which we also have raw, tetrode, eeg, egf and pos data.\n",
    "filename = '/mnt/c/tmp_data/catalystneuro/sample_bin_to_tint/axona_sample.set'\n",
    "filename_eeg = filename.replace('.set', '.eeg')\n",
    "filename_egf = filename.replace('.set', '.egf')\n",
    "\n",
    "base_dir = Path(filename).parent"
   ]
  },
  {
   "cell_type": "code",
   "execution_count": 4,
   "id": "f4506f92",
   "metadata": {},
   "outputs": [],
   "source": [
    "from hussaini_lab_to_nwb import (\n",
    "    HussainiNWBConverter,\n",
    "    HussainiUnitNWBConverter,\n",
    ")"
   ]
  },
  {
   "cell_type": "markdown",
   "id": "075928ec",
   "metadata": {},
   "source": [
    "1. __HussainiNWBConverter__: `.bin` + `.pos` + `.eeg` + `.set`"
   ]
  },
  {
   "cell_type": "code",
   "execution_count": 5,
   "id": "91a05821",
   "metadata": {
    "scrolled": false
   },
   "outputs": [
    {
     "name": "stdout",
     "output_type": "stream",
     "text": [
      "{\n",
      "  \"AxonaLFPDataInterface\": {\n",
      "    \"filename\": \"/mnt/c/tmp_data/catalystneuro/sample_bin_to_tint/axona_sample.eeg\"\n",
      "  },\n",
      "  \"AxonaRecordingExtractorInterface\": {\n",
      "    \"filename\": \"/mnt/c/tmp_data/catalystneuro/sample_bin_to_tint/axona_sample.set\"\n",
      "  },\n",
      "  \"AxonaPositionDataInterface\": {\n",
      "    \"filename\": \"/mnt/c/tmp_data/catalystneuro/sample_bin_to_tint/axona_sample.set\"\n",
      "  }\n",
      "}\n",
      "Source data is valid!\n",
      "Metadata is valid!\n"
     ]
    },
    {
     "name": "stderr",
     "output_type": "stream",
     "text": [
      "/home/sbuergers/spikeinterface/hussaini-test-pipeline/venv/lib/python3.8/site-packages/pynwb/file.py:801: UserWarning: Date is missing timezone information. Updating to local timezone.\n",
      "  warn(\"Date is missing timezone information. Updating to local timezone.\")\n",
      "/home/sbuergers/spikeinterface/hussaini-test-pipeline/venv/lib/python3.8/site-packages/hdmf/common/table.py:447: UserWarning: An attribute 'name' already exists on DynamicTable 'electrodes' so this column cannot be accessed as an attribute, e.g., table.name; it can only be accessed using other methods, e.g., table['name'].\n",
      "  warn(msg)\n",
      "/home/sbuergers/spikeinterface/nwb-conversion-tools/nwb_conversion_tools/utils/spike_interface.py:302: UserWarning: cannot create electrodes for this recording as ids already exist\n",
      "  warnings.warn(\"cannot create electrodes for this recording as ids already exist\")\n",
      "/home/sbuergers/spikeinterface/hussaini-test-pipeline/venv/lib/python3.8/site-packages/spikeextractors/extraction_tools.py:802: UserWarning: The recording extractor does not have unscaled traces. Returning scaled traces\n",
      "  warnings.warn(\"The recording extractor does not have unscaled traces. Returning scaled traces\")\n",
      "/home/sbuergers/spikeinterface/hussaini-test-pipeline/venv/lib/python3.8/site-packages/hdmf/build/objectmapper.py:256: DtypeConversionWarning: Spec 'SpatialSeries/timestamps': Value with data type int64 is being converted to data type float64 as specified.\n",
      "  warnings.warn(full_warning_msg, DtypeConversionWarning)\n"
     ]
    },
    {
     "name": "stdout",
     "output_type": "stream",
     "text": [
      "NWB file saved at /mnt/c/tmp_data/catalystneuro/sample_bin_to_tint/nwb_bin_pos_lfp11.nwb!\n"
     ]
    }
   ],
   "source": [
    "# Set nwbfile name\n",
    "nwbfile_name = 'nwb_bin_pos_lfp11.nwb'\n",
    "\n",
    "\n",
    "# Specify source data\n",
    "source_data = dict(\n",
    "    AxonaLFPDataInterface=dict(filename=filename_eeg),\n",
    "    AxonaRecordingExtractorInterface=dict(filename=filename),\n",
    "    AxonaPositionDataInterface=dict(filename=filename),\n",
    ")\n",
    "print(json.dumps(source_data, indent=2))\n",
    "\n",
    "\n",
    "# Initialize Converter\n",
    "converter = HussainiNWBConverter(source_data=source_data)\n",
    "\n",
    "\n",
    "# Get metadata\n",
    "metadata = converter.get_metadata()\n",
    "\n",
    "\n",
    "# Export to NWB file\n",
    "output_file = base_dir / nwbfile_name\n",
    "\n",
    "converter.run_conversion(\n",
    "    metadata=metadata,\n",
    "    nwbfile_path=output_file,\n",
    "    overwrite=True,\n",
    "    save_to_file=True,\n",
    "    conversion_options=None\n",
    ")"
   ]
  },
  {
   "cell_type": "code",
   "execution_count": 6,
   "id": "f8530c4a",
   "metadata": {
    "scrolled": false
   },
   "outputs": [
    {
     "name": "stdout",
     "output_type": "stream",
     "text": [
      "root pynwb.file.NWBFile at 0x140036273286784\n",
      "Fields:\n",
      "  acquisition: {\n",
      "    ElectricalSeries_raw <class 'pynwb.ecephys.ElectricalSeries'>\n",
      "  }\n",
      "  devices: {\n",
      "    Axona <class 'pynwb.device.Device'>,\n",
      "    Device_ecephys <class 'pynwb.device.Device'>\n",
      "  }\n",
      "  electrode_groups: {\n",
      "    0 <class 'pynwb.ecephys.ElectrodeGroup'>,\n",
      "    1 <class 'pynwb.ecephys.ElectrodeGroup'>,\n",
      "    2 <class 'pynwb.ecephys.ElectrodeGroup'>,\n",
      "    3 <class 'pynwb.ecephys.ElectrodeGroup'>\n",
      "  }\n",
      "  electrodes: electrodes <class 'hdmf.common.table.DynamicTable'>\n",
      "  experimenter: ['Abid']\n",
      "  file_create_date: [datetime.datetime(2021, 8, 12, 9, 38, 40, 809973, tzinfo=tzoffset(None, 7200))]\n",
      "  identifier: 7eef0567-e832-4f63-b16c-edfbcc438c50\n",
      "  processing: {\n",
      "    behavior <class 'pynwb.base.ProcessingModule'>,\n",
      "    ecephys <class 'pynwb.base.ProcessingModule'>\n",
      "  }\n",
      "  session_start_time: 2020-10-04 11:07:07+02:00\n",
      "  timestamps_reference_time: 2020-10-04 11:07:07+02:00\n",
      "\n"
     ]
    },
    {
     "data": {
      "application/vnd.jupyter.widget-view+json": {
       "model_id": "0d94e83990514771b981acd77f35f2ca",
       "version_major": 2,
       "version_minor": 0
      },
      "text/plain": [
       "VBox(children=(HBox(children=(Label(value='session_description:', layout=Layout(max_height='40px', max_width='…"
      ]
     },
     "metadata": {},
     "output_type": "display_data"
    }
   ],
   "source": [
    "# Check NWB file\n",
    "\n",
    "fname = output_file\n",
    "with NWBHDF5IO(fname, 'r') as io:\n",
    "    nwbfile = io.read()\n",
    "    print(nwbfile)\n",
    "    \n",
    "\n",
    "%matplotlib inline\n",
    "\n",
    "io = NWBHDF5IO(output_file, mode='r')\n",
    "nwb = io.read()\n",
    "\n",
    "nwb2widget(nwb)"
   ]
  },
  {
   "cell_type": "markdown",
   "id": "aff84918",
   "metadata": {},
   "source": [
    "2. __HussainiNWBConverter__: `.bin` + `.set`"
   ]
  },
  {
   "cell_type": "code",
   "execution_count": 7,
   "id": "fd49496c",
   "metadata": {},
   "outputs": [
    {
     "name": "stdout",
     "output_type": "stream",
     "text": [
      "{\n",
      "  \"AxonaRecordingExtractorInterface\": {\n",
      "    \"filename\": \"/mnt/c/tmp_data/catalystneuro/sample_bin_to_tint/axona_sample.set\"\n",
      "  }\n",
      "}\n",
      "Source data is valid!\n",
      "Metadata is valid!\n",
      "NWB file saved at /mnt/c/tmp_data/catalystneuro/sample_bin_to_tint/nwb_bin.nwb!\n",
      "root pynwb.file.NWBFile at 0x140036290285520\n",
      "Fields:\n",
      "  acquisition: {\n",
      "    ElectricalSeries_raw <class 'pynwb.ecephys.ElectricalSeries'>\n",
      "  }\n",
      "  devices: {\n",
      "    Axona <class 'pynwb.device.Device'>\n",
      "  }\n",
      "  electrode_groups: {\n",
      "    0 <class 'pynwb.ecephys.ElectrodeGroup'>,\n",
      "    1 <class 'pynwb.ecephys.ElectrodeGroup'>,\n",
      "    2 <class 'pynwb.ecephys.ElectrodeGroup'>,\n",
      "    3 <class 'pynwb.ecephys.ElectrodeGroup'>\n",
      "  }\n",
      "  electrodes: electrodes <class 'hdmf.common.table.DynamicTable'>\n",
      "  experimenter: ['Abid']\n",
      "  file_create_date: [datetime.datetime(2021, 8, 12, 9, 38, 46, 148199, tzinfo=tzoffset(None, 7200))]\n",
      "  identifier: e07d5b2b-9b03-44c6-9d36-eeec419f4a87\n",
      "  session_start_time: 2020-10-04 11:07:07+02:00\n",
      "  timestamps_reference_time: 2020-10-04 11:07:07+02:00\n",
      "\n"
     ]
    },
    {
     "data": {
      "application/vnd.jupyter.widget-view+json": {
       "model_id": "eb9a8329f4c14fbc8c2dcbb0312376b9",
       "version_major": 2,
       "version_minor": 0
      },
      "text/plain": [
       "VBox(children=(HBox(children=(Label(value='session_description:', layout=Layout(max_height='40px', max_width='…"
      ]
     },
     "metadata": {},
     "output_type": "display_data"
    }
   ],
   "source": [
    "# Set nwbfile name\n",
    "nwbfile_name = 'nwb_bin.nwb'\n",
    "\n",
    "\n",
    "# Specify source data\n",
    "source_data = dict(\n",
    "    AxonaRecordingExtractorInterface=dict(filename=filename)\n",
    ")\n",
    "print(json.dumps(source_data, indent=2))\n",
    "\n",
    "\n",
    "# Initialize Converter\n",
    "converter = HussainiNWBConverter(source_data=source_data)\n",
    "\n",
    "\n",
    "# Get metadata\n",
    "metadata = converter.get_metadata()\n",
    "\n",
    "\n",
    "# Export to NWB file\n",
    "output_file = base_dir / nwbfile_name\n",
    "\n",
    "converter.run_conversion(\n",
    "    metadata=metadata,\n",
    "    nwbfile_path=output_file,\n",
    "    overwrite=True,\n",
    "    save_to_file=True,\n",
    "    conversion_options=None\n",
    ")\n",
    "\n",
    "\n",
    "# Check NWB file\n",
    "fname = output_file\n",
    "with NWBHDF5IO(fname, 'r') as io:\n",
    "    nwbfile = io.read()\n",
    "    print(nwbfile)\n",
    "    \n",
    "\n",
    "%matplotlib inline\n",
    "\n",
    "io = NWBHDF5IO(output_file, mode='r')\n",
    "nwb = io.read()\n",
    "\n",
    "nwb2widget(nwb)"
   ]
  },
  {
   "cell_type": "markdown",
   "id": "b09e318e",
   "metadata": {},
   "source": [
    "3. __HussainiUnitNWBConverter__: `.X` + `.set`"
   ]
  },
  {
   "cell_type": "code",
   "execution_count": 8,
   "id": "23a8b73f",
   "metadata": {
    "scrolled": false
   },
   "outputs": [
    {
     "name": "stdout",
     "output_type": "stream",
     "text": [
      "{\n",
      "  \"AxonaUnitRecordingExtractorInterface\": {\n",
      "    \"filename\": \"/mnt/c/tmp_data/catalystneuro/sample_bin_to_tint/axona_sample.set\"\n",
      "  }\n",
      "}\n",
      "Source data is valid!\n",
      "Metadata is valid!\n",
      "NWB file saved at /mnt/c/tmp_data/catalystneuro/sample_bin_to_tint/nwb_tetrode.nwb!\n",
      "root pynwb.file.NWBFile at 0x140036275431168\n",
      "Fields:\n",
      "  acquisition: {\n",
      "    ElectricalSeries_raw <class 'pynwb.ecephys.ElectricalSeries'>\n",
      "  }\n",
      "  devices: {\n",
      "    Axona <class 'pynwb.device.Device'>\n",
      "  }\n",
      "  electrode_groups: {\n",
      "    0 <class 'pynwb.ecephys.ElectrodeGroup'>,\n",
      "    1 <class 'pynwb.ecephys.ElectrodeGroup'>,\n",
      "    2 <class 'pynwb.ecephys.ElectrodeGroup'>,\n",
      "    3 <class 'pynwb.ecephys.ElectrodeGroup'>\n",
      "  }\n",
      "  electrodes: electrodes <class 'hdmf.common.table.DynamicTable'>\n",
      "  experimenter: ['Abid']\n",
      "  file_create_date: [datetime.datetime(2021, 8, 12, 9, 38, 50, 288856, tzinfo=tzoffset(None, 7200))]\n",
      "  identifier: 236b88b0-ff1c-4407-8c0c-55fc937a3030\n",
      "  session_start_time: 2020-10-04 11:07:07+02:00\n",
      "  timestamps_reference_time: 2020-10-04 11:07:07+02:00\n",
      "\n"
     ]
    },
    {
     "data": {
      "application/vnd.jupyter.widget-view+json": {
       "model_id": "0ce7da07c5e2494eb7925c242006059c",
       "version_major": 2,
       "version_minor": 0
      },
      "text/plain": [
       "VBox(children=(HBox(children=(Label(value='session_description:', layout=Layout(max_height='40px', max_width='…"
      ]
     },
     "metadata": {},
     "output_type": "display_data"
    }
   ],
   "source": [
    "# Set nwbfile name\n",
    "nwbfile_name = 'nwb_tetrode.nwb'\n",
    "\n",
    "\n",
    "# Specify source data\n",
    "source_data = dict(\n",
    "    AxonaUnitRecordingExtractorInterface=dict(filename=filename)\n",
    ")\n",
    "print(json.dumps(source_data, indent=2))\n",
    "\n",
    "\n",
    "# Initialize Converter\n",
    "converter = HussainiUnitNWBConverter(source_data=source_data)\n",
    "\n",
    "\n",
    "# Get metadata\n",
    "metadata = converter.get_metadata()\n",
    "\n",
    "\n",
    "# Export to NWB file\n",
    "output_file = base_dir / nwbfile_name\n",
    "\n",
    "converter.run_conversion(\n",
    "    metadata=metadata,\n",
    "    nwbfile_path=output_file,\n",
    "    overwrite=True,\n",
    "    save_to_file=True,\n",
    "    conversion_options=None\n",
    ")\n",
    "\n",
    "\n",
    "# Check NWB file\n",
    "\n",
    "fname = output_file\n",
    "with NWBHDF5IO(fname, 'r') as io:\n",
    "    nwbfile = io.read()\n",
    "    print(nwbfile)\n",
    "    \n",
    "\n",
    "%matplotlib inline\n",
    "\n",
    "io = NWBHDF5IO(output_file, mode='r')\n",
    "nwb = io.read()\n",
    "\n",
    "nwb2widget(nwb)"
   ]
  },
  {
   "cell_type": "markdown",
   "id": "11d6b435",
   "metadata": {},
   "source": [
    "4. __HussainiNWBConverter__: `.pos` + `.set`"
   ]
  },
  {
   "cell_type": "code",
   "execution_count": 9,
   "id": "47610b0f",
   "metadata": {},
   "outputs": [
    {
     "name": "stdout",
     "output_type": "stream",
     "text": [
      "{\n",
      "  \"AxonaPositionDataInterface\": {\n",
      "    \"filename\": \"/mnt/c/tmp_data/catalystneuro/sample_bin_to_tint/axona_sample.set\"\n",
      "  }\n",
      "}\n",
      "Source data is valid!\n",
      "Metadata is valid!\n",
      "NWB file saved at /mnt/c/tmp_data/catalystneuro/sample_bin_to_tint/nwb_pos.nwb!\n",
      "root pynwb.file.NWBFile at 0x140036274440560\n",
      "Fields:\n",
      "  file_create_date: [datetime.datetime(2021, 8, 12, 9, 38, 54, 59304, tzinfo=tzoffset(None, 7200))]\n",
      "  identifier: 2cc2d1a4-5e69-4bc2-9cb6-3e778dc90a81\n",
      "  processing: {\n",
      "    behavior <class 'pynwb.base.ProcessingModule'>\n",
      "  }\n",
      "  session_description: no description\n",
      "  session_start_time: 1970-01-01 00:00:00+01:00\n",
      "  timestamps_reference_time: 1970-01-01 00:00:00+01:00\n",
      "\n"
     ]
    },
    {
     "data": {
      "application/vnd.jupyter.widget-view+json": {
       "model_id": "c4ca5ca032c740f6af650888ad2d4fbc",
       "version_major": 2,
       "version_minor": 0
      },
      "text/plain": [
       "VBox(children=(HBox(children=(Label(value='session_description:', layout=Layout(max_height='40px', max_width='…"
      ]
     },
     "metadata": {},
     "output_type": "display_data"
    }
   ],
   "source": [
    "\n",
    "# Set nwbfile name\n",
    "nwbfile_name = 'nwb_pos.nwb'\n",
    "\n",
    "\n",
    "# Specify source data\n",
    "source_data = dict(\n",
    "    AxonaPositionDataInterface=dict(filename=filename),\n",
    ")\n",
    "print(json.dumps(source_data, indent=2))\n",
    "\n",
    "\n",
    "# Initialize Converter\n",
    "converter = HussainiNWBConverter(source_data=source_data)\n",
    "\n",
    "\n",
    "# Get metadata\n",
    "metadata = converter.get_metadata()\n",
    "\n",
    "\n",
    "# Export to NWB file\n",
    "output_file = base_dir / nwbfile_name\n",
    "\n",
    "converter.run_conversion(\n",
    "    metadata=metadata,\n",
    "    nwbfile_path=output_file,\n",
    "    overwrite=True,\n",
    "    save_to_file=True,\n",
    "    conversion_options=None\n",
    ")\n",
    "\n",
    "\n",
    "# Check NWB file\n",
    "\n",
    "fname = output_file\n",
    "with NWBHDF5IO(fname, 'r') as io:\n",
    "    nwbfile = io.read()\n",
    "    print(nwbfile)\n",
    "    \n",
    "\n",
    "%matplotlib inline\n",
    "\n",
    "io = NWBHDF5IO(output_file, mode='r')\n",
    "nwb = io.read()\n",
    "\n",
    "nwb2widget(nwb)"
   ]
  },
  {
   "cell_type": "markdown",
   "id": "540c8c43",
   "metadata": {},
   "source": [
    "5. __HussainiNWBConverter__: `.eeg` + `.set`\n"
   ]
  },
  {
   "cell_type": "code",
   "execution_count": 10,
   "id": "0c4b81dc",
   "metadata": {},
   "outputs": [
    {
     "name": "stdout",
     "output_type": "stream",
     "text": [
      "{\n",
      "  \"AxonaLFPDataInterface\": {\n",
      "    \"filename\": \"/mnt/c/tmp_data/catalystneuro/sample_bin_to_tint/axona_sample.eeg\"\n",
      "  }\n",
      "}\n",
      "Source data is valid!\n",
      "Metadata is valid!\n",
      "NWB file saved at /mnt/c/tmp_data/catalystneuro/sample_bin_to_tint/nwb_lfp_eeg.nwb!\n",
      "root pynwb.file.NWBFile at 0x140036274449760\n",
      "Fields:\n",
      "  devices: {\n",
      "    Device_ecephys <class 'pynwb.device.Device'>\n",
      "  }\n",
      "  electrode_groups: {\n",
      "    0 <class 'pynwb.ecephys.ElectrodeGroup'>\n",
      "  }\n",
      "  electrodes: electrodes <class 'hdmf.common.table.DynamicTable'>\n",
      "  file_create_date: [datetime.datetime(2021, 8, 12, 9, 38, 58, 551555, tzinfo=tzoffset(None, 7200))]\n",
      "  identifier: 4022ae54-805f-47a3-b650-bb77bcee96ea\n",
      "  processing: {\n",
      "    ecephys <class 'pynwb.base.ProcessingModule'>\n",
      "  }\n",
      "  session_description: no description\n",
      "  session_start_time: 1970-01-01 00:00:00+01:00\n",
      "  timestamps_reference_time: 1970-01-01 00:00:00+01:00\n",
      "\n"
     ]
    },
    {
     "data": {
      "application/vnd.jupyter.widget-view+json": {
       "model_id": "a1316a19f6ce4294b7ca8fa0fab3da0b",
       "version_major": 2,
       "version_minor": 0
      },
      "text/plain": [
       "VBox(children=(HBox(children=(Label(value='session_description:', layout=Layout(max_height='40px', max_width='…"
      ]
     },
     "metadata": {},
     "output_type": "display_data"
    }
   ],
   "source": [
    "# Set nwbfile name\n",
    "nwbfile_name = 'nwb_lfp_eeg.nwb'\n",
    "\n",
    "\n",
    "# Specify source data\n",
    "source_data = dict(\n",
    "    AxonaLFPDataInterface=dict(filename=filename_eeg)\n",
    ")\n",
    "print(json.dumps(source_data, indent=2))\n",
    "\n",
    "\n",
    "# Initialize Converter\n",
    "converter = HussainiNWBConverter(source_data=source_data)\n",
    "\n",
    "\n",
    "# Get metadata\n",
    "metadata = converter.get_metadata()\n",
    "\n",
    "\n",
    "# Export to NWB file\n",
    "output_file = base_dir / nwbfile_name\n",
    "\n",
    "converter.run_conversion(\n",
    "    metadata=metadata,\n",
    "    nwbfile_path=output_file,\n",
    "    overwrite=True,\n",
    "    save_to_file=True,\n",
    "    conversion_options=None\n",
    ")\n",
    "\n",
    "\n",
    "# Check NWB file\n",
    "\n",
    "fname = output_file\n",
    "with NWBHDF5IO(fname, 'r') as io:\n",
    "    nwbfile = io.read()\n",
    "    print(nwbfile)\n",
    "    \n",
    "\n",
    "%matplotlib inline\n",
    "\n",
    "io = NWBHDF5IO(output_file, mode='r')\n",
    "nwb = io.read()\n",
    "\n",
    "nwb2widget(nwb)"
   ]
  },
  {
   "cell_type": "markdown",
   "id": "647a71ad",
   "metadata": {},
   "source": [
    "6. __HussainiNWBConverter__: `.egf` + `.set`\n"
   ]
  },
  {
   "cell_type": "code",
   "execution_count": 11,
   "id": "001088d0",
   "metadata": {
    "scrolled": false
   },
   "outputs": [
    {
     "name": "stdout",
     "output_type": "stream",
     "text": [
      "{\n",
      "  \"AxonaLFPDataInterface\": {\n",
      "    \"filename\": \"/mnt/c/tmp_data/catalystneuro/sample_bin_to_tint/axona_sample.egf\"\n",
      "  }\n",
      "}\n",
      "Source data is valid!\n",
      "Metadata is valid!\n",
      "NWB file saved at /mnt/c/tmp_data/catalystneuro/sample_bin_to_tint/nwb_lfp_egf.nwb!\n",
      "root pynwb.file.NWBFile at 0x140036277547216\n",
      "Fields:\n",
      "  devices: {\n",
      "    Device_ecephys <class 'pynwb.device.Device'>\n",
      "  }\n",
      "  electrode_groups: {\n",
      "    0 <class 'pynwb.ecephys.ElectrodeGroup'>\n",
      "  }\n",
      "  electrodes: electrodes <class 'hdmf.common.table.DynamicTable'>\n",
      "  file_create_date: [datetime.datetime(2021, 8, 12, 9, 39, 5, 949338, tzinfo=tzoffset(None, 7200))]\n",
      "  identifier: 71c5dc25-6bc4-472c-852c-cf1d1cdf87d2\n",
      "  processing: {\n",
      "    ecephys <class 'pynwb.base.ProcessingModule'>\n",
      "  }\n",
      "  session_description: no description\n",
      "  session_start_time: 1970-01-01 00:00:00+01:00\n",
      "  timestamps_reference_time: 1970-01-01 00:00:00+01:00\n",
      "\n"
     ]
    },
    {
     "data": {
      "application/vnd.jupyter.widget-view+json": {
       "model_id": "885dd2cedace46e88d192bcf61aaf40c",
       "version_major": 2,
       "version_minor": 0
      },
      "text/plain": [
       "VBox(children=(HBox(children=(Label(value='session_description:', layout=Layout(max_height='40px', max_width='…"
      ]
     },
     "metadata": {},
     "output_type": "display_data"
    }
   ],
   "source": [
    "\n",
    "# Set nwbfile name\n",
    "nwbfile_name = 'nwb_lfp_egf.nwb'\n",
    "\n",
    "\n",
    "# Specify source data\n",
    "source_data = dict(\n",
    "    AxonaLFPDataInterface=dict(filename=filename_egf)\n",
    ")\n",
    "print(json.dumps(source_data, indent=2))\n",
    "\n",
    "\n",
    "# Initialize Converter\n",
    "converter = HussainiNWBConverter(source_data=source_data)\n",
    "\n",
    "\n",
    "# Get metadata\n",
    "metadata = converter.get_metadata()\n",
    "\n",
    "\n",
    "# Export to NWB file\n",
    "output_file = base_dir / nwbfile_name\n",
    "\n",
    "converter.run_conversion(\n",
    "    metadata=metadata,\n",
    "    nwbfile_path=output_file,\n",
    "    overwrite=True,\n",
    "    save_to_file=True,\n",
    "    conversion_options=None\n",
    ")\n",
    "\n",
    "\n",
    "# Check NWB file\n",
    "\n",
    "fname = output_file\n",
    "with NWBHDF5IO(fname, 'r') as io:\n",
    "    nwbfile = io.read()\n",
    "    print(nwbfile)\n",
    "    \n",
    "\n",
    "%matplotlib inline\n",
    "\n",
    "io = NWBHDF5IO(output_file, mode='r')\n",
    "nwb = io.read()\n",
    "\n",
    "nwb2widget(nwb)"
   ]
  },
  {
   "cell_type": "markdown",
   "id": "7ad802b3",
   "metadata": {},
   "source": [
    "7. __HussainiUnitNWBConverter__: `.X` + `.pos` + `.eeg` + `.set`"
   ]
  },
  {
   "cell_type": "code",
   "execution_count": 12,
   "id": "934e8f33",
   "metadata": {
    "scrolled": false
   },
   "outputs": [
    {
     "name": "stdout",
     "output_type": "stream",
     "text": [
      "{\n",
      "  \"AxonaLFPDataInterface\": {\n",
      "    \"filename\": \"/mnt/c/tmp_data/catalystneuro/sample_bin_to_tint/axona_sample.eeg\"\n",
      "  },\n",
      "  \"AxonaUnitRecordingExtractorInterface\": {\n",
      "    \"filename\": \"/mnt/c/tmp_data/catalystneuro/sample_bin_to_tint/axona_sample.set\"\n",
      "  },\n",
      "  \"AxonaPositionDataInterface\": {\n",
      "    \"filename\": \"/mnt/c/tmp_data/catalystneuro/sample_bin_to_tint/axona_sample.set\"\n",
      "  }\n",
      "}\n",
      "Source data is valid!\n",
      "Metadata is valid!\n",
      "NWB file saved at /mnt/c/tmp_data/catalystneuro/sample_bin_to_tint/nwb_unit_eeg.nwb!\n",
      "root pynwb.file.NWBFile at 0x140036271913040\n",
      "Fields:\n",
      "  acquisition: {\n",
      "    ElectricalSeries_raw <class 'pynwb.ecephys.ElectricalSeries'>\n",
      "  }\n",
      "  devices: {\n",
      "    Axona <class 'pynwb.device.Device'>,\n",
      "    Device_ecephys <class 'pynwb.device.Device'>\n",
      "  }\n",
      "  electrode_groups: {\n",
      "    0 <class 'pynwb.ecephys.ElectrodeGroup'>,\n",
      "    1 <class 'pynwb.ecephys.ElectrodeGroup'>,\n",
      "    2 <class 'pynwb.ecephys.ElectrodeGroup'>,\n",
      "    3 <class 'pynwb.ecephys.ElectrodeGroup'>\n",
      "  }\n",
      "  electrodes: electrodes <class 'hdmf.common.table.DynamicTable'>\n",
      "  experimenter: ['Abid']\n",
      "  file_create_date: [datetime.datetime(2021, 8, 12, 9, 39, 10, 55282, tzinfo=tzoffset(None, 7200))]\n",
      "  identifier: d2472878-3849-41af-9cfa-f80fa4997b2d\n",
      "  processing: {\n",
      "    behavior <class 'pynwb.base.ProcessingModule'>,\n",
      "    ecephys <class 'pynwb.base.ProcessingModule'>\n",
      "  }\n",
      "  session_start_time: 2020-10-04 11:07:07+02:00\n",
      "  timestamps_reference_time: 2020-10-04 11:07:07+02:00\n",
      "\n"
     ]
    },
    {
     "data": {
      "application/vnd.jupyter.widget-view+json": {
       "model_id": "25b6fed0a01542468a7729e35c1a2b84",
       "version_major": 2,
       "version_minor": 0
      },
      "text/plain": [
       "VBox(children=(HBox(children=(Label(value='session_description:', layout=Layout(max_height='40px', max_width='…"
      ]
     },
     "metadata": {},
     "output_type": "display_data"
    }
   ],
   "source": [
    "\n",
    "# Set nwbfile name\n",
    "nwbfile_name = 'nwb_unit_eeg.nwb'\n",
    "\n",
    "\n",
    "# Specify source data\n",
    "source_data = dict(\n",
    "    AxonaLFPDataInterface=dict(filename=filename_eeg),\n",
    "    AxonaUnitRecordingExtractorInterface=dict(filename=filename),\n",
    "    AxonaPositionDataInterface=dict(filename=filename),\n",
    ")\n",
    "print(json.dumps(source_data, indent=2))\n",
    "\n",
    "\n",
    "# Initialize Converter\n",
    "converter = HussainiUnitNWBConverter(source_data=source_data)\n",
    "\n",
    "\n",
    "# Get metadata\n",
    "metadata = converter.get_metadata()\n",
    "\n",
    "\n",
    "# Export to NWB file\n",
    "output_file = base_dir / nwbfile_name\n",
    "\n",
    "converter.run_conversion(\n",
    "    metadata=metadata,\n",
    "    nwbfile_path=output_file,\n",
    "    overwrite=True,\n",
    "    save_to_file=True,\n",
    "    conversion_options=None\n",
    ")\n",
    "\n",
    "\n",
    "# Check NWB file\n",
    "\n",
    "fname = output_file\n",
    "with NWBHDF5IO(fname, 'r') as io:\n",
    "    nwbfile = io.read()\n",
    "    print(nwbfile)\n",
    "    \n",
    "\n",
    "%matplotlib inline\n",
    "\n",
    "io = NWBHDF5IO(output_file, mode='r')\n",
    "nwb = io.read()\n",
    "\n",
    "nwb2widget(nwb)"
   ]
  },
  {
   "cell_type": "markdown",
   "id": "58a61fd0",
   "metadata": {},
   "source": [
    "8. __HussainiUnitNWBConverter__: `.X` + `.pos` + `.egf` + `.set`"
   ]
  },
  {
   "cell_type": "code",
   "execution_count": 13,
   "id": "f4bfc8fb",
   "metadata": {
    "scrolled": false
   },
   "outputs": [
    {
     "name": "stdout",
     "output_type": "stream",
     "text": [
      "{\n",
      "  \"AxonaLFPDataInterface\": {\n",
      "    \"filename\": \"/mnt/c/tmp_data/catalystneuro/sample_bin_to_tint/axona_sample.egf\"\n",
      "  },\n",
      "  \"AxonaUnitRecordingExtractorInterface\": {\n",
      "    \"filename\": \"/mnt/c/tmp_data/catalystneuro/sample_bin_to_tint/axona_sample.set\"\n",
      "  },\n",
      "  \"AxonaPositionDataInterface\": {\n",
      "    \"filename\": \"/mnt/c/tmp_data/catalystneuro/sample_bin_to_tint/axona_sample.set\"\n",
      "  }\n",
      "}\n",
      "Source data is valid!\n",
      "Metadata is valid!\n",
      "NWB file saved at /mnt/c/tmp_data/catalystneuro/sample_bin_to_tint/nwb_unit_egf.nwb!\n",
      "root pynwb.file.NWBFile at 0x140036284087312\n",
      "Fields:\n",
      "  acquisition: {\n",
      "    ElectricalSeries_raw <class 'pynwb.ecephys.ElectricalSeries'>\n",
      "  }\n",
      "  devices: {\n",
      "    Axona <class 'pynwb.device.Device'>,\n",
      "    Device_ecephys <class 'pynwb.device.Device'>\n",
      "  }\n",
      "  electrode_groups: {\n",
      "    0 <class 'pynwb.ecephys.ElectrodeGroup'>,\n",
      "    1 <class 'pynwb.ecephys.ElectrodeGroup'>,\n",
      "    2 <class 'pynwb.ecephys.ElectrodeGroup'>,\n",
      "    3 <class 'pynwb.ecephys.ElectrodeGroup'>\n",
      "  }\n",
      "  electrodes: electrodes <class 'hdmf.common.table.DynamicTable'>\n",
      "  experimenter: ['Abid']\n",
      "  file_create_date: [datetime.datetime(2021, 8, 12, 9, 39, 16, 412655, tzinfo=tzoffset(None, 7200))]\n",
      "  identifier: 0d9657ff-908d-4944-aaec-36a3f0a6c9c2\n",
      "  processing: {\n",
      "    behavior <class 'pynwb.base.ProcessingModule'>,\n",
      "    ecephys <class 'pynwb.base.ProcessingModule'>\n",
      "  }\n",
      "  session_start_time: 2020-10-04 11:07:07+02:00\n",
      "  timestamps_reference_time: 2020-10-04 11:07:07+02:00\n",
      "\n"
     ]
    },
    {
     "data": {
      "application/vnd.jupyter.widget-view+json": {
       "model_id": "8ffa996c4a1d4deaa159a02dff532f8e",
       "version_major": 2,
       "version_minor": 0
      },
      "text/plain": [
       "VBox(children=(HBox(children=(Label(value='session_description:', layout=Layout(max_height='40px', max_width='…"
      ]
     },
     "metadata": {},
     "output_type": "display_data"
    },
    {
     "data": {
      "image/png": "[encoded data removed]",
      "text/plain": [
       "<Figure size 576x504 with 1 Axes>"
      ]
     },
     "metadata": {
      "needs_background": "light"
     },
     "output_type": "display_data"
    }
   ],
   "source": [
    "\n",
    "# Set nwbfile name\n",
    "nwbfile_name = 'nwb_unit_egf.nwb'\n",
    "\n",
    "\n",
    "# Specify source data\n",
    "source_data = dict(\n",
    "    AxonaLFPDataInterface=dict(filename=filename_egf),\n",
    "    AxonaUnitRecordingExtractorInterface=dict(filename=filename),\n",
    "    AxonaPositionDataInterface=dict(filename=filename),\n",
    ")\n",
    "print(json.dumps(source_data, indent=2))\n",
    "\n",
    "\n",
    "# Initialize Converter\n",
    "converter = HussainiUnitNWBConverter(source_data=source_data)\n",
    "\n",
    "\n",
    "# Get metadata\n",
    "metadata = converter.get_metadata()\n",
    "\n",
    "\n",
    "# Export to NWB file\n",
    "output_file = base_dir / nwbfile_name\n",
    "\n",
    "converter.run_conversion(\n",
    "    metadata=metadata,\n",
    "    nwbfile_path=output_file,\n",
    "    overwrite=True,\n",
    "    save_to_file=True,\n",
    "    conversion_options=None\n",
    ")\n",
    "\n",
    "\n",
    "# Check NWB file\n",
    "\n",
    "fname = output_file\n",
    "with NWBHDF5IO(fname, 'r') as io:\n",
    "    nwbfile = io.read()\n",
    "    print(nwbfile)\n",
    "    \n",
    "\n",
    "%matplotlib inline\n",
    "\n",
    "io = NWBHDF5IO(output_file, mode='r')\n",
    "nwb = io.read()\n",
    "\n",
    "nwb2widget(nwb)"
   ]
  },
  {
   "cell_type": "markdown",
   "id": "0d636a18",
   "metadata": {},
   "source": [
    "## Adding data to existing nwb files"
   ]
  },
  {
   "cell_type": "markdown",
   "id": "0ec46ed0",
   "metadata": {},
   "source": [
    "Add `.pos` and `.eeg` data to `.bin` acquisition\n",
    "\n",
    "__Note:__ We did not appropriately close the connection to the nwbfile earlier, and running the below code without doing so will result in an error. To avoid this, simply restart the notebook, evaluate the imports at the beginning and do not evaluate any of the above cells containing inspections of the nwbfiles with nwbwidgets."
   ]
  },
  {
   "cell_type": "code",
   "execution_count": 5,
   "id": "33a390e6",
   "metadata": {},
   "outputs": [
    {
     "name": "stdout",
     "output_type": "stream",
     "text": [
      "{\n",
      "  \"AxonaPositionDataInterface\": {\n",
      "    \"filename\": \"/mnt/c/tmp_data/catalystneuro/sample_bin_to_tint/axona_sample.set\"\n",
      "  }\n",
      "}\n",
      "Source data is valid!\n",
      "Metadata is valid!\n"
     ]
    },
    {
     "name": "stderr",
     "output_type": "stream",
     "text": [
      "/home/sbuergers/spikeinterface/hussaini-test-pipeline/venv/lib/python3.8/site-packages/hdmf/common/table.py:447: UserWarning: An attribute 'name' already exists on DynamicTable 'electrodes' so this column cannot be accessed as an attribute, e.g., table.name; it can only be accessed using other methods, e.g., table['name'].\n",
      "  warn(msg)\n",
      "/home/sbuergers/spikeinterface/hussaini-test-pipeline/venv/lib/python3.8/site-packages/hdmf/build/objectmapper.py:256: DtypeConversionWarning: Spec 'SpatialSeries/timestamps': Value with data type int64 is being converted to data type float64 as specified.\n",
      "  warnings.warn(full_warning_msg, DtypeConversionWarning)\n"
     ]
    },
    {
     "name": "stdout",
     "output_type": "stream",
     "text": [
      "NWB file saved at /mnt/c/tmp_data/catalystneuro/sample_bin_to_tint/nwb_bin.nwb!\n",
      "{\n",
      "  \"AxonaLFPDataInterface\": {\n",
      "    \"filename\": \"/mnt/c/tmp_data/catalystneuro/sample_bin_to_tint/axona_sample.eeg\"\n",
      "  }\n",
      "}\n",
      "Source data is valid!\n",
      "Metadata is valid!\n"
     ]
    },
    {
     "name": "stderr",
     "output_type": "stream",
     "text": [
      "/home/sbuergers/spikeinterface/nwb-conversion-tools/nwb_conversion_tools/utils/spike_interface.py:302: UserWarning: cannot create electrodes for this recording as ids already exist\n",
      "  warnings.warn(\"cannot create electrodes for this recording as ids already exist\")\n",
      "/home/sbuergers/spikeinterface/hussaini-test-pipeline/venv/lib/python3.8/site-packages/spikeextractors/extraction_tools.py:802: UserWarning: The recording extractor does not have unscaled traces. Returning scaled traces\n",
      "  warnings.warn(\"The recording extractor does not have unscaled traces. Returning scaled traces\")\n"
     ]
    },
    {
     "name": "stdout",
     "output_type": "stream",
     "text": [
      "NWB file saved at /mnt/c/tmp_data/catalystneuro/sample_bin_to_tint/nwb_bin.nwb!\n",
      "root pynwb.file.NWBFile at 0x140220227874976\n",
      "Fields:\n",
      "  acquisition: {\n",
      "    ElectricalSeries_raw <class 'pynwb.ecephys.ElectricalSeries'>\n",
      "  }\n",
      "  devices: {\n",
      "    Axona <class 'pynwb.device.Device'>,\n",
      "    Device_ecephys <class 'pynwb.device.Device'>\n",
      "  }\n",
      "  electrode_groups: {\n",
      "    0 <class 'pynwb.ecephys.ElectrodeGroup'>,\n",
      "    1 <class 'pynwb.ecephys.ElectrodeGroup'>,\n",
      "    2 <class 'pynwb.ecephys.ElectrodeGroup'>,\n",
      "    3 <class 'pynwb.ecephys.ElectrodeGroup'>\n",
      "  }\n",
      "  electrodes: electrodes <class 'hdmf.common.table.DynamicTable'>\n",
      "  experimenter: ['Abid']\n",
      "  file_create_date: [datetime.datetime(2021, 8, 12, 9, 38, 46, 148199, tzinfo=tzoffset(None, 7200))]\n",
      "  identifier: e07d5b2b-9b03-44c6-9d36-eeec419f4a87\n",
      "  processing: {\n",
      "    behavior <class 'pynwb.base.ProcessingModule'>,\n",
      "    ecephys <class 'pynwb.base.ProcessingModule'>\n",
      "  }\n",
      "  session_start_time: 2020-10-04 11:07:07+02:00\n",
      "  timestamps_reference_time: 2020-10-04 11:07:07+02:00\n",
      "\n"
     ]
    },
    {
     "data": {
      "application/vnd.jupyter.widget-view+json": {
       "model_id": "c6d37c37de1e48bbb7ff2a9f070de88d",
       "version_major": 2,
       "version_minor": 0
      },
      "text/plain": [
       "VBox(children=(HBox(children=(Label(value='session_description:', layout=Layout(max_height='40px', max_width='…"
      ]
     },
     "metadata": {},
     "output_type": "display_data"
    }
   ],
   "source": [
    "# Set nwbfile name\n",
    "nwbfile_name = 'nwb_bin.nwb'\n",
    "\n",
    "\n",
    "# Specify source data for pos\n",
    "source_data = dict(\n",
    "    AxonaPositionDataInterface=dict(filename=filename),\n",
    ")\n",
    "print(json.dumps(source_data, indent=2))\n",
    "\n",
    "\n",
    "# Initialize Converter\n",
    "converter = HussainiNWBConverter(source_data=source_data)\n",
    "\n",
    "\n",
    "# Get metadata\n",
    "metadata = converter.get_metadata()\n",
    "\n",
    "\n",
    "# Export to NWB file\n",
    "output_file = base_dir / nwbfile_name\n",
    "\n",
    "converter.run_conversion(\n",
    "    metadata=metadata,\n",
    "    nwbfile_path=output_file,\n",
    "    overwrite=False,\n",
    "    save_to_file=True,\n",
    "    conversion_options=None\n",
    ")\n",
    "\n",
    "\n",
    "\n",
    "# Specify source data for eeg\n",
    "source_data = dict(\n",
    "    AxonaLFPDataInterface=dict(filename=filename_eeg),\n",
    ")\n",
    "print(json.dumps(source_data, indent=2))\n",
    "\n",
    "\n",
    "# Initialize Converter\n",
    "converter = HussainiNWBConverter(source_data=source_data)\n",
    "\n",
    "\n",
    "# Get metadata\n",
    "metadata = converter.get_metadata()\n",
    "\n",
    "\n",
    "# Export to NWB file\n",
    "output_file = base_dir / nwbfile_name\n",
    "\n",
    "converter.run_conversion(\n",
    "    metadata=metadata,\n",
    "    nwbfile_path=output_file,\n",
    "    overwrite=False,\n",
    "    save_to_file=True,\n",
    "    conversion_options=None\n",
    ")\n",
    "\n",
    "\n",
    "# Check NWB file\n",
    "\n",
    "fname = output_file\n",
    "with NWBHDF5IO(fname, 'r') as io:\n",
    "    nwbfile = io.read()\n",
    "    print(nwbfile)\n",
    "    \n",
    "\n",
    "%matplotlib inline\n",
    "\n",
    "io = NWBHDF5IO(output_file, mode='r')\n",
    "nwb = io.read()\n",
    "\n",
    "nwb2widget(nwb)"
   ]
  },
  {
   "cell_type": "code",
   "execution_count": null,
   "id": "49453d0e",
   "metadata": {},
   "outputs": [],
   "source": []
  }
 ],
 "metadata": {
  "kernelspec": {
   "display_name": "Python3 (hussaini-test-pipeline)",
   "language": "python",
   "name": "hussaini-test-pipeline"
  },
  "language_info": {
   "codemirror_mode": {
    "name": "ipython",
    "version": 3
   },
   "file_extension": ".py",
   "mimetype": "text/x-python",
   "name": "python",
   "nbconvert_exporter": "python",
   "pygments_lexer": "ipython3",
   "version": "3.8.5"
  }
 },
 "nbformat": 4,
 "nbformat_minor": 5
}
