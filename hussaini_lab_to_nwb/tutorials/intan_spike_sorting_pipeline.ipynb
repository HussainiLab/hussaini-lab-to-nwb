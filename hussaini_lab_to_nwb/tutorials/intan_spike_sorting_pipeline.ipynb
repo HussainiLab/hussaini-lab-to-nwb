{
 "cells": [
  {
   "cell_type": "markdown",
   "id": "exotic-thumbnail",
   "metadata": {},
   "source": [
    "<a id=\"index\"></a>\n",
    "# A modular processing pipeline for spike sorting `Intan` data"
   ]
  },
  {
   "cell_type": "markdown",
   "id": "vietnamese-hampton",
   "metadata": {},
   "source": [
    "In this notebook we will walk through a spike sorting processing pipeline with [SpikeInterface](https://github.com/SpikeInterface) for Intan data. There is another notebook called `axona_spike_sorting_pipeline.ipynb` for working with Axona data.\n",
    "\n",
    "We will show how to\n",
    "\n",
    "1. [Install `hussaini_lab_to_nwb`](#install_dependencies)\n",
    "2. [load data with spikeextractors](#load_data)\n",
    "3. [Preprocess the signals](#preprocess)\n",
    "4. [Cache data](#cache)\n",
    "5. [Spike sort](#spike_sorting)   \n",
    "   * [Klusta](#klusta)\n",
    "   * [mountainsort4](#mountainsort4)\n",
    "   * [Ironclust](#ironclust)\n",
    "   * [spyking circus](#spykingcircus)\n",
    "   * [tridesclous](#tridesclous)\n",
    "   \n",
    "   \n",
    "6. [Postprocess the signals](#postprocessing)\n",
    "7. [Curate the spike sorting output](#spike_curation) with \n",
    "        1) quality metrics (automatic), \n",
    "        2) [Phy](https://github.com/cortex-lab/phy) (manual), and \n",
    "        3) consensus-based curation\n",
    "8. [Export results to NWB](#export_nwb)"
   ]
  },
  {
   "cell_type": "markdown",
   "id": "68_5oVLpxqC0",
   "metadata": {
    "id": "68_5oVLpxqC0"
   },
   "source": [
    "<a id='install_dependencies'></a>\n",
    "# Install `hussaini_lab_to_nwb`\n",
    "[back to index](#index)\n",
    "\n",
    "You can install the package and its dependencies with `pip install hussaini_lab_to_nwb`. The dependencies are listed in `requirements.txt`. We recommend installing it in a clean virtual environment (e.g. with `conda` or `venv`). \n",
    "\n",
    "Note that some spike sorters require matlab or additional dependencies, which need to be installed separately. For an overview of possible spike sorters and their dependencies see https://spikeinterface.readthedocs.io/en/latest/sortersinfo.html."
   ]
  },
  {
   "cell_type": "markdown",
   "id": "bisIQYVyr1aT",
   "metadata": {
    "id": "bisIQYVyr1aT"
   },
   "source": [
    "Import packages"
   ]
  },
  {
   "cell_type": "code",
   "execution_count": null,
   "id": "5c64d2ef",
   "metadata": {},
   "outputs": [],
   "source": [
    "%load_ext autoreload\n",
    "%autoreload 2"
   ]
  },
  {
   "cell_type": "code",
   "execution_count": null,
   "id": "matched-aviation",
   "metadata": {
    "colab": {
     "base_uri": "https://localhost:8080/"
    },
    "id": "matched-aviation",
    "outputId": "19ee9109-a66b-41b7-b02b-b24b4b30889c",
    "scrolled": true
   },
   "outputs": [],
   "source": [
    "# General data handling and visualization\n",
    "import sys\n",
    "import os\n",
    "import numpy as np\n",
    "import matplotlib\n",
    "import matplotlib.pyplot as plt\n",
    "\n",
    "# SpikeInterface family\n",
    "import spikeextractors as se\n",
    "import spikewidgets as sw\n",
    "import spiketoolkit as st\n",
    "import spikesorters as ss\n",
    "import spikecomparison as sc\n",
    "\n",
    "print(sys.version, sys.platform, sys.executable)"
   ]
  },
  {
   "cell_type": "code",
   "execution_count": null,
   "id": "fca11e53",
   "metadata": {},
   "outputs": [],
   "source": [
    "%matplotlib inline\n",
    "plt.rcParams[\"figure.figsize\"] = (16, 6)\n",
    "plt.rcParams.update({'font.size':14})"
   ]
  },
  {
   "cell_type": "markdown",
   "id": "large-excerpt",
   "metadata": {
    "id": "large-excerpt"
   },
   "source": [
    "<a id='load_data'></a>\n",
    "# 2. Load data\n",
    "[back to index](#index)"
   ]
  },
  {
   "cell_type": "code",
   "execution_count": null,
   "id": "covered-rescue",
   "metadata": {
    "colab": {
     "base_uri": "https://localhost:8080/"
    },
    "id": "covered-rescue",
    "outputId": "6c46c365-0d3b-4e97-db63-a810005bac35"
   },
   "outputs": [],
   "source": [
    "dir_name = r'/mnt/d/freelance-work/catalyst-neuro/hussaini-lab-to-nwb/Intan_data'\n",
    "base_filename = 'intan_rhd_test_1.rhd'\n",
    "filename = os.path.join(dir_name, base_filename)\n",
    "print(filename)"
   ]
  },
  {
   "cell_type": "markdown",
   "id": "parental-characteristic",
   "metadata": {},
   "source": [
    "A `RecordingExtractor` object extracts information about channel ids, channel locations (if present), the sampling frequency of the recording, and the extracellular traces (when prompted). Below we illustrate a few useful methods that describe this particular recording."
   ]
  },
  {
   "cell_type": "code",
   "execution_count": null,
   "id": "58c022ca",
   "metadata": {},
   "outputs": [],
   "source": [
    "recording = se.IntanRecordingExtractor(file_path=filename, verbose=True)"
   ]
  },
  {
   "cell_type": "code",
   "execution_count": null,
   "id": "convinced-freeware",
   "metadata": {
    "colab": {
     "base_uri": "https://localhost:8080/"
    },
    "id": "convinced-freeware",
    "outputId": "3dc8056f-0bc3-4531-9a76-8c5b3c69cfe6"
   },
   "outputs": [],
   "source": [
    "print('Type of recorindextractor:', type(recording))\n",
    "print('Channel ids: {}'.format(recording.get_channel_ids()))\n",
    "print('Num. channels = {}'.format(len(recording.get_channel_ids())))\n",
    "print('Sampling frequency = {} Hz'.format(recording.get_sampling_frequency()))\n",
    "print('Num. samples = {}'.format(recording.get_num_frames()))\n",
    "print('Stdev. on third channel = {}'.format(np.std(recording.get_traces(\n",
    "    start_frame=0, end_frame=48000, channel_ids=2))))"
   ]
  },
  {
   "cell_type": "markdown",
   "id": "W_sIsLkcYnCP",
   "metadata": {
    "id": "W_sIsLkcYnCP"
   },
   "source": [
    "The `spikewidgets` module includes several convenient plotting functions that can be used to explore the data, for instance by visualizing snippets of data in the time domain:"
   ]
  },
  {
   "cell_type": "code",
   "execution_count": null,
   "id": "164a7342",
   "metadata": {},
   "outputs": [],
   "source": [
    "channel_subset = [0,1,2,3,4,5,6,7,8,9,10,11,12,13,14,15]"
   ]
  },
  {
   "cell_type": "code",
   "execution_count": null,
   "id": "described-barcelona",
   "metadata": {
    "colab": {
     "base_uri": "https://localhost:8080/",
     "height": 515
    },
    "id": "described-barcelona",
    "outputId": "a079470c-5db5-4187-eca1-5b039a484a38"
   },
   "outputs": [],
   "source": [
    "w_ts = sw.plot_timeseries(recording, trange=[0.4, 0.8], channel_ids=channel_subset)"
   ]
  },
  {
   "cell_type": "markdown",
   "id": "XicpUe1hZAWX",
   "metadata": {
    "id": "XicpUe1hZAWX"
   },
   "source": [
    "Or in the frequency domain:"
   ]
  },
  {
   "cell_type": "code",
   "execution_count": null,
   "id": "empirical-hearing",
   "metadata": {
    "colab": {
     "base_uri": "https://localhost:8080/",
     "height": 515
    },
    "id": "empirical-hearing",
    "outputId": "7e2f4db1-3720-4d27-a0dd-11d402350970"
   },
   "outputs": [],
   "source": [
    "w_sp = sw.plot_spectrum(recording, trange=[0, 1], channels=channel_subset)"
   ]
  },
  {
   "cell_type": "markdown",
   "id": "WZj10iA-ZdAJ",
   "metadata": {
    "id": "WZj10iA-ZdAJ"
   },
   "source": [
    "It often makes sense to group electrodes together, for instance if they belong to the same tetrode. This can be accomplished with the `set_channel_groups()` method. Correspondingly, we can view the `group` property using the `get_channel_groups` method. \n",
    "\n",
    "An alternative way to obtain channel groups is by loading a so called `.prb` file containing channel grouping and physical channel locations. We do not need it here, but it is well explained in this [spikeinterface tutorial](https://github.com/SpikeInterface/spiketutorials/blob/master/NWB_Developer_Breakout_Session_Sep2020/SpikeInterface_Tutorial.ipynb).\n",
    "\n",
    "For this Intan dataset, we are not aware of channel groupings and the default is to include all channels in the same group."
   ]
  },
  {
   "cell_type": "code",
   "execution_count": null,
   "id": "developmental-thousand",
   "metadata": {
    "colab": {
     "base_uri": "https://localhost:8080/"
    },
    "id": "developmental-thousand",
    "outputId": "67ed1ac0-8fb3-4c07-f0f7-baa34c6a1b47"
   },
   "outputs": [],
   "source": [
    "print(f'Channel groups:\\n{recording.get_channel_groups()}')"
   ]
  },
  {
   "cell_type": "markdown",
   "id": "remarkable-sewing",
   "metadata": {
    "id": "remarkable-sewing"
   },
   "source": [
    "Some spike sorters (e.g. ironclust) require channel locations. So we will create a fake geometry keeping electrodes on single tetrodes close together. One could use a `.prb` file to accomplish this, but we will simply assign locations with the `set_channel_locations()` method. If the actual geometry is known, you can of course use that instead. "
   ]
  },
  {
   "cell_type": "code",
   "execution_count": null,
   "id": "nominated-terror",
   "metadata": {
    "id": "nominated-terror"
   },
   "outputs": [],
   "source": [
    "recording.set_channel_locations(locations=[[0, 10*ch_id] for ch_id in recording.get_channel_ids()],\n",
    "                                channel_ids=recording.get_channel_ids())"
   ]
  },
  {
   "cell_type": "markdown",
   "id": "Idpx--IPcDaC",
   "metadata": {
    "id": "Idpx--IPcDaC"
   },
   "source": [
    "We now have the additional channel property `location`."
   ]
  },
  {
   "cell_type": "code",
   "execution_count": null,
   "id": "impressive-continent",
   "metadata": {
    "colab": {
     "base_uri": "https://localhost:8080/"
    },
    "id": "impressive-continent",
    "outputId": "c5b6e7ac-2026-4c89-caa7-af07ea19ae04",
    "scrolled": true
   },
   "outputs": [],
   "source": [
    "print('Channel ids:', recording.get_channel_ids())\n",
    "print('Loaded properties', recording.get_shared_channel_property_names())\n",
    "\n",
    "# 'group' and 'location' can be returned as lists:\n",
    "print('Channel groups:', recording.get_channel_groups())\n",
    "print('Channel locations:\\n', recording.get_channel_locations())"
   ]
  },
  {
   "cell_type": "markdown",
   "id": "FD0X7QzRcfrJ",
   "metadata": {
    "id": "FD0X7QzRcfrJ"
   },
   "source": [
    "And we can visualize the electrode locations with spikewidgets:"
   ]
  },
  {
   "cell_type": "code",
   "execution_count": null,
   "id": "extra-lover",
   "metadata": {
    "colab": {
     "base_uri": "https://localhost:8080/",
     "height": 85
    },
    "id": "extra-lover",
    "outputId": "96697da9-26fc-4f93-ac30-be156c38a2c2"
   },
   "outputs": [],
   "source": [
    "fh = plt.figure(figsize=(1,6))\n",
    "w_elec = sw.plot_electrode_geometry(recording, figure=fh)"
   ]
  },
  {
   "cell_type": "markdown",
   "id": "european-truck",
   "metadata": {},
   "source": [
    "### Properties (and features)\n",
    "\n",
    "For now we have seen that the `RecordingExtractor` can have `group` and `location` *properies*. These are very special properties that can be very important for spike sorting. But anything related to a channel can be saved as a property.\n",
    "\n",
    "Similarly, for `SortingExtractor` objects, anything related to a unit can be stored as a property. In addition, for `SortingExtractor` objects we can also store anything related to spikes as *features* (e.g. waveforms, as we'll see later).\n",
    "\n",
    "We can check which properties are in the extractor as follows:"
   ]
  },
  {
   "cell_type": "code",
   "execution_count": null,
   "id": "placed-equality",
   "metadata": {
    "colab": {
     "base_uri": "https://localhost:8080/"
    },
    "id": "placed-equality",
    "outputId": "09e832f4-c625-45e0-e759-70eba95dead2"
   },
   "outputs": [],
   "source": [
    "print('Shared channel property names')\n",
    "print(recording.get_shared_channel_property_names())"
   ]
  },
  {
   "cell_type": "markdown",
   "id": "tight-toddler",
   "metadata": {
    "id": "tight-toddler"
   },
   "source": [
    "<a id='preprocess'></a>\n",
    "# 3. Preprocessing\n",
    "[back to index](#index)"
   ]
  },
  {
   "cell_type": "markdown",
   "id": "gLFcbetfdKRw",
   "metadata": {
    "id": "gLFcbetfdKRw"
   },
   "source": [
    "Next, we will perform a few preprocessing steps using `spiketoolkit`.\n",
    "\n",
    "We can filter the recordings, rereference the signals to remove noise, discard noisy channels, whiten the data, remove stimulation artifacts, and more (see [here](https://spiketoolkit.readthedocs.io/en/latest/preprocessing_example.html)).\n",
    "\n",
    "For this notebook, we will filter the recording and apply common median reference (CMR). All preprocessing modules return new `RecordingExtractor` objects that apply the underlying preprocessing function. This allows users to access the preprocessed data in the same way as the raw data."
   ]
  },
  {
   "cell_type": "markdown",
   "id": "invisible-strengthening",
   "metadata": {
    "id": "invisible-strengthening"
   },
   "source": [
    "### Bandpass filter"
   ]
  },
  {
   "cell_type": "code",
   "execution_count": null,
   "id": "fixed-eugene",
   "metadata": {
    "colab": {
     "base_uri": "https://localhost:8080/",
     "height": 515
    },
    "id": "fixed-eugene",
    "outputId": "9a00cfd1-fadb-47a5-b777-6b04b38ce80a"
   },
   "outputs": [],
   "source": [
    "r_filt = st.preprocessing.bandpass_filter(recording, freq_min=300, freq_max=6000)\n",
    "\n",
    "w = sw.plot_timeseries(r_filt, trange=[0.4, 0.8], channel_ids=channel_subset)"
   ]
  },
  {
   "cell_type": "markdown",
   "id": "outdoor-porter",
   "metadata": {
    "id": "outdoor-porter"
   },
   "source": [
    "### Common median reference (CMR)"
   ]
  },
  {
   "cell_type": "markdown",
   "id": "AqxhdcAJdnZ0",
   "metadata": {
    "id": "AqxhdcAJdnZ0"
   },
   "source": [
    "It is often desirable to use a common median reference to remove noise common to all channels."
   ]
  },
  {
   "cell_type": "code",
   "execution_count": null,
   "id": "joint-friend",
   "metadata": {
    "colab": {
     "base_uri": "https://localhost:8080/",
     "height": 515
    },
    "id": "joint-friend",
    "outputId": "38316bc9-9d28-4637-ad9c-c67677aaaf99"
   },
   "outputs": [],
   "source": [
    "r_cmr = st.preprocessing.common_reference(r_filt, reference='median')\n",
    "w = sw.plot_timeseries(r_cmr, trange=[0.4, 0.8], channel_ids=channel_subset)"
   ]
  },
  {
   "cell_type": "markdown",
   "id": "0c73e18f",
   "metadata": {},
   "source": [
    "### Selecting subsets of data"
   ]
  },
  {
   "cell_type": "markdown",
   "id": "fifty-trainer",
   "metadata": {},
   "source": [
    "We can also select subsets of data in the time domain with `SubRecordingExtractor`. For the example recording we are using here this is not necessary since it is only 1s long, but we still include it here for illustration purposes."
   ]
  },
  {
   "cell_type": "code",
   "execution_count": null,
   "id": "daily-rogers",
   "metadata": {
    "id": "daily-rogers"
   },
   "outputs": [],
   "source": [
    "fs = r_cmr.get_sampling_frequency()\n",
    "r_sub = se.SubRecordingExtractor(r_cmr, start_frame=0*fs, end_frame=1*fs)"
   ]
  },
  {
   "cell_type": "markdown",
   "id": "precise-hawaiian",
   "metadata": {
    "id": "precise-hawaiian"
   },
   "source": [
    "<a id='cache'></a>\n",
    "# 4. Cache data\n",
    "[back to index](#index)"
   ]
  },
  {
   "cell_type": "markdown",
   "id": "convenient-afghanistan",
   "metadata": {},
   "source": [
    "All operations in SpikeInterface are *lazy*, meaning that they are not performed if not needed. This is why the creation of our filter recording was almost instantaneous. However, to speed up further processing, we might want to perform those operations (eg. filters, CMR, etc.) once and **cache** the processed data to a file. This is particularly important if we are going to extract waveforms, templates, pca scores, or in general *post-process* the results.\n",
    "\n",
    "Note that if the parameter `save_path` is not specified, the cache file will be saved in a temporary folder that will be deleted when the Python session is closed (or the object destroyed). One can get around this by moving the temporary file with `recording_cache.move_to()`, or simply specifying the `save_path` paramter when creating the cache. You can view the directory of the temporary folder with `recording_cache.get_tmp_folder()`."
   ]
  },
  {
   "cell_type": "code",
   "execution_count": null,
   "id": "curious-hughes",
   "metadata": {
    "id": "curious-hughes"
   },
   "outputs": [],
   "source": [
    "perma_cache_filename = os.path.join(dir_name, 'cached_data_preproc.dat') \n",
    "r_cache = se.CacheRecordingExtractor(r_sub, save_path=perma_cache_filename)\n",
    "print('Temporary folder:\\n{}'.format(r_cache.get_tmp_folder()))"
   ]
  },
  {
   "cell_type": "markdown",
   "id": "signal-messenger",
   "metadata": {},
   "source": [
    "Under the hood, this convenient function is retrieving all the traces (in chunks, to save up some memory), applying the preprocessing steps, and dumping them to a binary temporary file:"
   ]
  },
  {
   "cell_type": "code",
   "execution_count": null,
   "id": "broad-milwaukee",
   "metadata": {},
   "outputs": [],
   "source": [
    "print(f'Filename: {r_cache.filename}')"
   ]
  },
  {
   "cell_type": "markdown",
   "id": "altered-personality",
   "metadata": {},
   "source": [
    "The cached recording has all the previously loaded information:"
   ]
  },
  {
   "cell_type": "code",
   "execution_count": null,
   "id": "smoking-kitchen",
   "metadata": {
    "colab": {
     "base_uri": "https://localhost:8080/"
    },
    "id": "smoking-kitchen",
    "outputId": "c28213c0-57e0-430f-c10c-35698f32e11f"
   },
   "outputs": [],
   "source": [
    "print(f'Cached channels: {r_cache.get_channel_ids()}')\n",
    "print(f'Cached channels ids: {r_cache.get_channel_ids()}')\n",
    "print(f'Channel groups after caching: {r_cache.get_channel_groups()}')\n",
    "print('Duration of recording in seconds: {}'.format(r_cache.get_num_frames() / r_cache.get_sampling_frequency()))"
   ]
  },
  {
   "cell_type": "markdown",
   "id": "synthetic-casino",
   "metadata": {},
   "source": [
    "If we now closed the Python session, we would have a nice `.dat` file, but no information on how to open it! \n",
    "In order to save the state of an extractor, we can use the **dumping** mechanism.\n",
    "Each extractor can be converted to a dictionary, which holds the path to the data file and all relevant information:"
   ]
  },
  {
   "cell_type": "code",
   "execution_count": null,
   "id": "stuffed-spain",
   "metadata": {},
   "outputs": [],
   "source": [
    "r_cache.dump_to_dict()"
   ]
  },
  {
   "cell_type": "markdown",
   "id": "surprising-economy",
   "metadata": {},
   "source": [
    "We can now dump our extractor object, so it can be loaded in a future session. We can dump either to `.json` or to `.pkl`. Dumping to pickle also allows us to store properties (other than group and locations) and features (for `SortingExtractor` objects)."
   ]
  },
  {
   "cell_type": "code",
   "execution_count": null,
   "id": "egyptian-colorado",
   "metadata": {
    "id": "egyptian-colorado"
   },
   "outputs": [],
   "source": [
    "r_cache.dump_to_pickle(os.path.join(dir_name, 'cached_data_preproc.pkl'))"
   ]
  },
  {
   "cell_type": "markdown",
   "id": "characteristic-picking",
   "metadata": {},
   "source": [
    "In another session, we can pick up from where we left by loading the extractor from the pickle file:"
   ]
  },
  {
   "cell_type": "code",
   "execution_count": null,
   "id": "damaged-dimension",
   "metadata": {
    "id": "damaged-dimension"
   },
   "outputs": [],
   "source": [
    "r_cache = se.load_extractor_from_pickle(os.path.join(dir_name, 'cached_data_preproc.pkl'))"
   ]
  },
  {
   "cell_type": "code",
   "execution_count": null,
   "id": "widespread-storage",
   "metadata": {
    "colab": {
     "base_uri": "https://localhost:8080/"
    },
    "id": "widespread-storage",
    "outputId": "6b0dd01b-a6b3-45fc-d646-fa19d5ce42d8"
   },
   "outputs": [],
   "source": [
    "print(f'Cached channels ids: {r_cache.get_channel_ids()}')\n",
    "print(f'Channel groups after caching: {r_cache.get_channel_groups()}')\n",
    "print('Duration of recording in seconds: {}'.format(r_cache.get_num_frames() / r_cache.get_sampling_frequency()))"
   ]
  },
  {
   "cell_type": "markdown",
   "id": "hourly-carol",
   "metadata": {},
   "source": [
    "__Note__: the same caching/dumping mechanisms are available also for all `SortingExtractor` objects."
   ]
  },
  {
   "cell_type": "markdown",
   "id": "federal-definition",
   "metadata": {
    "id": "federal-definition"
   },
   "source": [
    "<a id='spike_sorting'></a>\n",
    "# 5. Spike sorting\n",
    "[back to index](#index)"
   ]
  },
  {
   "cell_type": "markdown",
   "id": "mineral-logging",
   "metadata": {},
   "source": [
    "We will now run spike sorting on the above recording (`r_cache`). We will show code for `klusta`, `ironclust`, `mountainsort4`, `spykingcircus` and `trideclous` for this demonstration, but there are many other spike sorting algorithms available, all of which can be accessed with the same `spikeinterface` API."
   ]
  },
  {
   "cell_type": "markdown",
   "id": "akjGt3qmesNJ",
   "metadata": {
    "id": "akjGt3qmesNJ"
   },
   "source": [
    "First, we need to install the spike sorters we want. There is a complete overview of spike sorters supported by spikeinterface [here](https://spikeinterface.readthedocs.io/en/latest/sortersinfo.html), including installation instructions. Note that not all spikesorters work on every setup. Some require Matlab. Some require CUDA. "
   ]
  },
  {
   "cell_type": "markdown",
   "id": "acting-couple",
   "metadata": {},
   "source": [
    "We can list all installed spike sorting algorithms with the following convenience function."
   ]
  },
  {
   "cell_type": "code",
   "execution_count": null,
   "id": "dying-patient",
   "metadata": {
    "colab": {
     "base_uri": "https://localhost:8080/"
    },
    "id": "dying-patient",
    "outputId": "c5e99f46-19fe-4751-f646-932ef2aa0c55"
   },
   "outputs": [],
   "source": [
    "ss.installed_sorters()"
   ]
  },
  {
   "cell_type": "markdown",
   "id": "9cb92f8c",
   "metadata": {},
   "source": [
    "Please, note that we do not take advantage of the parallelizability of the spike sorters in this notebook, because even though we specify `parallel=True`, the number of performed parallel jobs is only one (`n_jobs=1`). We did this to keep the system requirements at a minimum, but we recommend to increase this number depending on your system's capabilities to speed up spike sorting."
   ]
  },
  {
   "cell_type": "markdown",
   "id": "initial-richards",
   "metadata": {
    "id": "initial-richards"
   },
   "source": [
    "<a id='klusta'></a>\n",
    "### Klusta\n",
    "[back to index](#index)"
   ]
  },
  {
   "cell_type": "markdown",
   "id": "failing-subject",
   "metadata": {},
   "source": [
    "We can retrieve the parameters associated with any sorter with the `get_default_params()` function from the `spikesorters` module, as well as corresponding parameter descriptions using `get_params_description()`."
   ]
  },
  {
   "cell_type": "code",
   "execution_count": null,
   "id": "military-oliver",
   "metadata": {
    "id": "military-oliver",
    "outputId": "aae56897-f66d-4631-c342-50ba6fb22203"
   },
   "outputs": [],
   "source": [
    "ss.get_default_params('klusta')"
   ]
  },
  {
   "cell_type": "code",
   "execution_count": null,
   "id": "located-complex",
   "metadata": {
    "id": "located-complex",
    "outputId": "89634d39-a76c-462e-efff-1093d27a541f"
   },
   "outputs": [],
   "source": [
    "ss.get_params_description('klusta')"
   ]
  },
  {
   "cell_type": "code",
   "execution_count": null,
   "id": "proved-suite",
   "metadata": {
    "id": "proved-suite"
   },
   "outputs": [],
   "source": [
    "ss.run_sorter?"
   ]
  },
  {
   "cell_type": "code",
   "execution_count": null,
   "id": "tough-lucas",
   "metadata": {
    "id": "tough-lucas"
   },
   "outputs": [],
   "source": [
    "ss.run_klusta?"
   ]
  },
  {
   "cell_type": "markdown",
   "id": "organic-czech",
   "metadata": {},
   "source": [
    "Now for the actual sorting."
   ]
  },
  {
   "cell_type": "code",
   "execution_count": null,
   "id": "original-bacteria",
   "metadata": {
    "id": "original-bacteria",
    "outputId": "fc3e8035-70aa-414a-8840-f3681f32682a"
   },
   "outputs": [],
   "source": [
    "sorting_KL = ss.run_klusta(\n",
    "    r_cache,\n",
    "    adjacency_radius=5,\n",
    "    output_folder=os.path.join(dir_name, 'klusta'),\n",
    "    parallel=True,\n",
    "    n_jobs=1\n",
    ")\n",
    "print(f'Klusta found {len(sorting_KL.get_unit_ids())} units')"
   ]
  },
  {
   "cell_type": "code",
   "execution_count": null,
   "id": "shaped-mandate",
   "metadata": {
    "id": "shaped-mandate",
    "outputId": "f22449fd-586e-467a-9fd6-cd7e97b572a8"
   },
   "outputs": [],
   "source": [
    "print(f'Klusta unit ids: {sorting_KL.get_unit_ids()}')"
   ]
  },
  {
   "cell_type": "code",
   "execution_count": null,
   "id": "rapid-energy",
   "metadata": {
    "id": "rapid-energy",
    "outputId": "c47c0fe7-2d9e-4b04-9f0b-873d697e4091"
   },
   "outputs": [],
   "source": [
    "print(f'Spike train of a unit: {sorting_KL.get_unit_spike_train(1)}')"
   ]
  },
  {
   "cell_type": "markdown",
   "id": "controlling-reviewer",
   "metadata": {},
   "source": [
    "We can also visually inspect the data using raster plots."
   ]
  },
  {
   "cell_type": "code",
   "execution_count": null,
   "id": "czech-corner",
   "metadata": {},
   "outputs": [],
   "source": [
    "w_rs = sw.plot_rasters(sorting_KL, trange=[0.4, 0.8])"
   ]
  },
  {
   "cell_type": "markdown",
   "id": "ambient-alaska",
   "metadata": {},
   "source": [
    "We can plot the temporal data for comparison, though it can be quite difficult to visually make out spiking events in noisy data. We will see more rigorous ways for assessing spike sorting outputs later on."
   ]
  },
  {
   "cell_type": "code",
   "execution_count": null,
   "id": "selected-paris",
   "metadata": {},
   "outputs": [],
   "source": [
    "w = sw.plot_timeseries(r_cache, trange=[0.4, 0.8], channel_ids=channel_subset)"
   ]
  },
  {
   "cell_type": "markdown",
   "id": "choice-prayer",
   "metadata": {},
   "source": [
    "### Loading spike sorting output from a spike sorting folder\n",
    "\n",
    "If a spike sorter has been run, you can reload the output as a `SortingExtractor` using the corresponding `spikeextractors` class. Note that if sorting by group/property, single groups must be loaded separately:"
   ]
  },
  {
   "cell_type": "code",
   "execution_count": null,
   "id": "regulation-saudi",
   "metadata": {
    "id": "regulation-saudi",
    "outputId": "5cf50ad2-bdbd-489e-b40b-5e17d1b2d7eb"
   },
   "outputs": [],
   "source": [
    "sorting_KL = se.KlustaSortingExtractor(os.path.join(dir_name, 'klusta'))\n",
    "sorting_KL"
   ]
  },
  {
   "cell_type": "markdown",
   "id": "hundred-episode",
   "metadata": {},
   "source": [
    "### Saving and loading spike sorting output"
   ]
  },
  {
   "cell_type": "markdown",
   "id": "consecutive-devon",
   "metadata": {},
   "source": [
    "It can be convenient to cache sorting extractors and reload them later for further use."
   ]
  },
  {
   "cell_type": "code",
   "execution_count": null,
   "id": "ahead-reliance",
   "metadata": {},
   "outputs": [],
   "source": [
    "sort_cache = se.CacheSortingExtractor(sorting_KL, save_path=os.path.join(dir_name, 'cached_sorting_KL.npz'))\n",
    "\n",
    "sort_cache.dump_to_pickle(os.path.join(dir_name, 'cached_sorting_KL.pkl'))"
   ]
  },
  {
   "cell_type": "markdown",
   "id": "activated-somerset",
   "metadata": {},
   "source": [
    "Re-read data from file."
   ]
  },
  {
   "cell_type": "code",
   "execution_count": null,
   "id": "behind-retailer",
   "metadata": {},
   "outputs": [],
   "source": [
    "sorting_KL = se.load_extractor_from_pickle(os.path.join(dir_name, 'cached_sorting_KL.pkl'))\n",
    "\n",
    "print('Unit ids = {}'.format(sorting_KL.get_unit_ids()))\n",
    "spike_train = sorting_KL.get_unit_spike_train(unit_id=1)\n",
    "print('Num. events for unit 1 = {}'.format(len(spike_train)))\n",
    "spike_train1 = sorting_KL.get_unit_spike_train(unit_id=1, start_frame=0, end_frame=30000)\n",
    "print('Num. events for first second of unit 1 = {}'.format(len(spike_train1)))"
   ]
  },
  {
   "cell_type": "markdown",
   "id": "disabled-stand",
   "metadata": {
    "id": "disabled-stand"
   },
   "source": [
    "<a id='mountainsort4'></a>\n",
    "### Mountainsort4\n",
    "[back to index](#index)"
   ]
  },
  {
   "cell_type": "code",
   "execution_count": null,
   "id": "focused-locking",
   "metadata": {},
   "outputs": [],
   "source": [
    "ss.installed_sorters()"
   ]
  },
  {
   "cell_type": "code",
   "execution_count": null,
   "id": "legal-montreal",
   "metadata": {
    "id": "legal-montreal",
    "outputId": "a38c3335-718e-4b13-ad12-a1dc03608304"
   },
   "outputs": [],
   "source": [
    "ss.get_default_params('mountainsort4')"
   ]
  },
  {
   "cell_type": "code",
   "execution_count": null,
   "id": "allied-restaurant",
   "metadata": {
    "id": "allied-restaurant",
    "outputId": "0235413c-f583-47ab-eff8-3068f0b52068"
   },
   "outputs": [],
   "source": [
    "ss.get_params_description('mountainsort4')"
   ]
  },
  {
   "cell_type": "code",
   "execution_count": null,
   "id": "2f7c7525",
   "metadata": {},
   "outputs": [],
   "source": [
    "ss.run_mountainsort4??"
   ]
  },
  {
   "cell_type": "code",
   "execution_count": null,
   "id": "accessible-forest",
   "metadata": {
    "id": "accessible-forest",
    "outputId": "8f6bf37d-7eb3-4d31-ce37-7a1cf04289c6",
    "scrolled": false
   },
   "outputs": [],
   "source": [
    "sorting_MS4 = ss.run_mountainsort4(\n",
    "    r_cache,\n",
    "    os.path.join(dir_name, 'mountainsort4'),\n",
    "    adjacency_radius=5,\n",
    "    parallel=True,\n",
    "    verbose=True,\n",
    "    filter=False,\n",
    "    n_jobs=1\n",
    ")\n",
    "print(f'Mountainsort4 found {len(sorting_MS4.get_unit_ids())} units')"
   ]
  },
  {
   "cell_type": "code",
   "execution_count": null,
   "id": "occupied-nepal",
   "metadata": {
    "id": "occupied-nepal",
    "scrolled": true
   },
   "outputs": [],
   "source": [
    "print(f'Spike train of a unit: {sorting_MS4.get_unit_spike_train(1)}')"
   ]
  },
  {
   "cell_type": "markdown",
   "id": "economic-producer",
   "metadata": {},
   "source": [
    "Write spike sorting output to memory."
   ]
  },
  {
   "cell_type": "code",
   "execution_count": null,
   "id": "7e353197",
   "metadata": {},
   "outputs": [],
   "source": [
    "sort_cache = se.CacheSortingExtractor(sorting_MS4, save_path=os.path.join(dir_name, 'cached_sorting_MS4.npz'))\n",
    "\n",
    "sort_cache.dump_to_pickle(os.path.join(dir_name, 'cached_sorting_MS4.pkl'))"
   ]
  },
  {
   "cell_type": "markdown",
   "id": "7078e5aa",
   "metadata": {},
   "source": [
    "Load spike sorting output from memory."
   ]
  },
  {
   "cell_type": "code",
   "execution_count": null,
   "id": "a114b057",
   "metadata": {},
   "outputs": [],
   "source": [
    "sorting_MS4 = se.load_extractor_from_pickle(os.path.join(dir_name, 'cached_sorting_MS4.pkl'))"
   ]
  },
  {
   "cell_type": "markdown",
   "id": "honey-bangladesh",
   "metadata": {
    "id": "honey-bangladesh"
   },
   "source": [
    "<a id='ironclust'></a>\n",
    "### Ironclust\n",
    "[back to index](#index)"
   ]
  },
  {
   "cell_type": "markdown",
   "id": "coordinated-zambia",
   "metadata": {},
   "source": [
    "If you haven't already, clone Ironclust github repository to a path of your choice. "
   ]
  },
  {
   "cell_type": "code",
   "execution_count": null,
   "id": "thrown-sweden",
   "metadata": {},
   "outputs": [],
   "source": [
    "ss.get_default_params('ironclust')"
   ]
  },
  {
   "cell_type": "code",
   "execution_count": null,
   "id": "iraqi-andrews",
   "metadata": {},
   "outputs": [],
   "source": [
    "ss.get_params_description('ironclust')"
   ]
  },
  {
   "cell_type": "markdown",
   "id": "bulgarian-tablet",
   "metadata": {},
   "source": [
    "Next, we set the ironclust path."
   ]
  },
  {
   "cell_type": "code",
   "execution_count": null,
   "id": "everyday-queen",
   "metadata": {
    "id": "everyday-queen",
    "outputId": "1710a23b-5b8f-4dc9-b9c4-9c1a9d78ca78"
   },
   "outputs": [],
   "source": [
    "ss.IronClustSorter.set_ironclust_path('./ironclust')  # You might need to substitute the appropriate path here\n",
    "ss.IronClustSorter.ironclust_path"
   ]
  },
  {
   "cell_type": "markdown",
   "id": "included-columbia",
   "metadata": {},
   "source": [
    "Note that we can also set a global environment variable called `IRONCLUST_PATH`. In that case we don't need to set the path in each session because the sorter class looks for this environment variable.\n",
    "\n",
    "Now ironclust should be installed and we can run it:"
   ]
  },
  {
   "cell_type": "code",
   "execution_count": null,
   "id": "administrative-brief",
   "metadata": {
    "id": "administrative-brief",
    "outputId": "71095edc-fda1-419d-f903-18ab309e1c64"
   },
   "outputs": [],
   "source": [
    "ss.installed_sorters()"
   ]
  },
  {
   "cell_type": "code",
   "execution_count": null,
   "id": "integral-bikini",
   "metadata": {
    "id": "integral-bikini",
    "outputId": "c5ac02fa-b46f-4360-c94a-2e903bf7e773",
    "scrolled": false
   },
   "outputs": [],
   "source": [
    "sorting_IC = ss.run_ironclust(\n",
    "    r_cache, \n",
    "    os.path.join(dir_name, 'ironclust'), \n",
    "    parallel=True, \n",
    "    verbose=True,\n",
    "    filter=False,  # we already filtered\n",
    "    common_ref_type=None,  # we already applied median reference\n",
    "    n_jobs=1\n",
    ")\n",
    "print(f'IronClust found {len(sorting_IC.get_unit_ids())} units')"
   ]
  },
  {
   "cell_type": "markdown",
   "id": "ac53dfd2",
   "metadata": {},
   "source": [
    "Cache sorting extractor."
   ]
  },
  {
   "cell_type": "code",
   "execution_count": null,
   "id": "bacdc9ba",
   "metadata": {},
   "outputs": [],
   "source": [
    "sort_cache = se.CacheSortingExtractor(sorting_IC, save_path=os.path.join(dir_name, 'cached_sorting_IC.npz'))\n",
    "\n",
    "sort_cache.dump_to_pickle(os.path.join(dir_name, 'cached_sorting_IC.pkl'))"
   ]
  },
  {
   "cell_type": "markdown",
   "id": "ddd5c15a",
   "metadata": {},
   "source": [
    "Re-load ironclust sorting extractor from file."
   ]
  },
  {
   "cell_type": "code",
   "execution_count": null,
   "id": "d9cd8a64",
   "metadata": {},
   "outputs": [],
   "source": [
    "sorting_IC = se.load_extractor_from_pickle(os.path.join(dir_name, 'cached_sorting_IC.pkl'))"
   ]
  },
  {
   "cell_type": "markdown",
   "id": "undefined-satin",
   "metadata": {
    "id": "undefined-satin"
   },
   "source": [
    "<a id='spykingcircus'></a>\n",
    "### SpykingCircus\n",
    "[back to index](#index)"
   ]
  },
  {
   "cell_type": "code",
   "execution_count": null,
   "id": "legislative-hearts",
   "metadata": {},
   "outputs": [],
   "source": [
    "ss.get_default_params('spykingcircus')"
   ]
  },
  {
   "cell_type": "code",
   "execution_count": null,
   "id": "compound-herald",
   "metadata": {},
   "outputs": [],
   "source": [
    "ss.get_params_description('spykingcircus')"
   ]
  },
  {
   "cell_type": "code",
   "execution_count": null,
   "id": "forty-behavior",
   "metadata": {},
   "outputs": [],
   "source": [
    "ss.installed_sorters()"
   ]
  },
  {
   "cell_type": "code",
   "execution_count": null,
   "id": "similar-welding",
   "metadata": {},
   "outputs": [],
   "source": [
    "sorting_SC = ss.run_spykingcircus(\n",
    "    r_cache,\n",
    "    os.path.join(dir_name, 'spykingcircus'),\n",
    "    adjacency_radius=5,\n",
    "    parallel=True,\n",
    "    verbose=True,\n",
    "    filter=False,\n",
    "    n_jobs=1\n",
    ")\n",
    "print(f'Spyking Circus found {len(sorting_SC.get_unit_ids())} units')"
   ]
  },
  {
   "cell_type": "markdown",
   "id": "prospective-marriage",
   "metadata": {},
   "source": [
    "Save spike sorting output."
   ]
  },
  {
   "cell_type": "code",
   "execution_count": null,
   "id": "patient-table",
   "metadata": {},
   "outputs": [],
   "source": [
    "sort_cache = se.CacheSortingExtractor(sorting_SC, save_path=os.path.join(dir_name, 'cached_sorting_SC.npz'))\n",
    "\n",
    "sort_cache.dump_to_pickle(os.path.join(dir_name, 'cached_sorting_SC.pkl'))"
   ]
  },
  {
   "cell_type": "markdown",
   "id": "cosmetic-nightlife",
   "metadata": {},
   "source": [
    "Read spyking circus spike sorting output. "
   ]
  },
  {
   "cell_type": "code",
   "execution_count": null,
   "id": "casual-browse",
   "metadata": {},
   "outputs": [],
   "source": [
    "sorting_SC = se.load_extractor_from_pickle(os.path.join(dir_name, 'cached_sorting_SC.pkl'))\n",
    "\n",
    "print('Unit ids = {}'.format(sorting_SC.get_unit_ids()))\n",
    "spike_train = sorting_SC.get_unit_spike_train(unit_id=1)\n",
    "print('Num. events for unit 1 = {}'.format(len(spike_train)))\n",
    "spike_train1 = sorting_SC.get_unit_spike_train(unit_id=1, start_frame=0, end_frame=30000)\n",
    "print('Num. events for first second of unit 1 = {}'.format(len(spike_train1)))"
   ]
  },
  {
   "cell_type": "markdown",
   "id": "viral-parcel",
   "metadata": {},
   "source": [
    "<a id='tridesclous'></a>\n",
    "### Tridesclous\n",
    "[back to index](#index)"
   ]
  },
  {
   "cell_type": "code",
   "execution_count": null,
   "id": "little-spine",
   "metadata": {},
   "outputs": [],
   "source": [
    "ss.get_default_params('tridesclous')"
   ]
  },
  {
   "cell_type": "code",
   "execution_count": null,
   "id": "fatty-recall",
   "metadata": {},
   "outputs": [],
   "source": [
    "ss.get_params_description('tridesclous')"
   ]
  },
  {
   "cell_type": "code",
   "execution_count": null,
   "id": "dietary-praise",
   "metadata": {},
   "outputs": [],
   "source": [
    "# run spike sorting by group\n",
    "sorting_TRI = ss.run_tridesclous(\n",
    "    r_cache, \n",
    "    os.path.join(dir_name, 'tridescluous'), \n",
    "    parallel=True, \n",
    "    verbose=True,\n",
    "    n_jobs=1\n",
    ")\n",
    "print(f'Tridesclous found {len(sorting_TRI.get_unit_ids())} units')"
   ]
  },
  {
   "cell_type": "markdown",
   "id": "imported-liverpool",
   "metadata": {},
   "source": [
    "Export spike sorting output from tridesclous."
   ]
  },
  {
   "cell_type": "code",
   "execution_count": null,
   "id": "tamil-humanity",
   "metadata": {},
   "outputs": [],
   "source": [
    "sort_cache = se.CacheSortingExtractor(sorting_TRI, save_path=os.path.join(dir_name, 'cached_sorting_TRI.npz'))\n",
    "\n",
    "sort_cache.dump_to_pickle(os.path.join(dir_name, 'cached_sorting_TRI.pkl'))"
   ]
  },
  {
   "cell_type": "markdown",
   "id": "matched-antique",
   "metadata": {},
   "source": [
    "Import spike sorting output from tridesclous."
   ]
  },
  {
   "cell_type": "code",
   "execution_count": null,
   "id": "inner-typing",
   "metadata": {},
   "outputs": [],
   "source": [
    "sorting_TRI = se.load_extractor_from_pickle(os.path.join(dir_name, 'cached_sorting_TRI.pkl'))\n",
    "\n",
    "print('Unit ids = {}'.format(sorting_TRI.get_unit_ids()))\n",
    "spike_train = sorting_TRI.get_unit_spike_train(unit_id=1)\n",
    "print('Num. events for unit 1 = {}'.format(len(spike_train)))\n",
    "spike_train1 = sorting_TRI.get_unit_spike_train(unit_id=1, start_frame=0, end_frame=30000)\n",
    "print('Num. events for first second of unit 1 = {}'.format(len(spike_train1)))"
   ]
  },
  {
   "cell_type": "markdown",
   "id": "alive-plate",
   "metadata": {
    "id": "alive-plate"
   },
   "source": [
    "<a id='postprocessing'></a>\n",
    "# 6. Postprocessing\n",
    "[back to index](#index)\n",
    "\n",
    "The `postprocessing` submodule of `spiketoolkit` allows us to extract information from the combination of the recording and sorting extractors. For example, we can extract waveforms, templates, maximum channels and pca scores. In addition, we can compute waveform features that could be used for further processing, e.g. classyfing excitatory-inhibitory neurons. \n",
    "\n",
    "Feel free to also browse the postprocessing [documentation](https://spikeinterface.readthedocs.io/en/latest/modules/toolkit/plot_2_postprocessing.ht) for more details."
   ]
  },
  {
   "cell_type": "markdown",
   "id": "gentle-attendance",
   "metadata": {},
   "source": [
    "Let's start by extracting waveforms."
   ]
  },
  {
   "cell_type": "code",
   "execution_count": null,
   "id": "continued-glance",
   "metadata": {},
   "outputs": [],
   "source": [
    "st.postprocessing.get_unit_waveforms?"
   ]
  },
  {
   "cell_type": "code",
   "execution_count": null,
   "id": "binary-twenty",
   "metadata": {
    "id": "binary-twenty",
    "outputId": "a098357d-98cf-4e48-bfdd-cdd7dc32c70c"
   },
   "outputs": [],
   "source": [
    "waveforms = st.postprocessing.get_unit_waveforms(r_cache, sorting_MS4, ms_before=0.2, ms_after=0.8, verbose=True)"
   ]
  },
  {
   "cell_type": "code",
   "execution_count": null,
   "id": "backed-cleanup",
   "metadata": {
    "id": "backed-cleanup",
    "outputId": "f23978f3-e206-483d-b42f-d36a3ef983e8"
   },
   "outputs": [],
   "source": [
    "waveforms[1].shape"
   ]
  },
  {
   "cell_type": "code",
   "execution_count": null,
   "id": "convenient-eugene",
   "metadata": {},
   "outputs": [],
   "source": [
    "avg_waveforms = st.postprocessing.get_unit_templates(r_cache, sorting_MS4, max_spikes_per_unit=200,\n",
    "                                                     save_as_property=True, verbose=True)"
   ]
  },
  {
   "cell_type": "code",
   "execution_count": null,
   "id": "skilled-tract",
   "metadata": {},
   "outputs": [],
   "source": [
    "fig, ax = plt.subplots(1, 2, figsize=(15,8))\n",
    "\n",
    "ax[0].plot(waveforms[0][:, 0, :].T, color='k', lw=0.3)\n",
    "ax[0].plot(waveforms[1][:, 0, :].T, color='r', lw=0.3)\n",
    "ax[0].plot(waveforms[2][:, 0, :].T, color='b', lw=0.3)\n",
    "ax[0].set_xlabel('Sample', fontsize=16)\n",
    "ax[0].set_ylabel('Amplitude', fontsize=16)\n",
    "ax[0].set_title('Individual waveforms for three sample units', fontsize=16)\n",
    "\n",
    "ax[1].plot(avg_waveforms[0][0].T, color='k', lw=0.3)\n",
    "ax[1].plot(avg_waveforms[1][0].T, color='r', lw=0.3)\n",
    "ax[1].plot(avg_waveforms[2][0].T, color='b', lw=0.3)\n",
    "ax[1].set_xlabel('Sample', fontsize=16)\n",
    "ax[1].set_title('Average waveforms for three sample units', fontsize=16)"
   ]
  },
  {
   "cell_type": "markdown",
   "id": "saving-milan",
   "metadata": {},
   "source": [
    "Similarly, we can get templates, maximum channels, and pca scores. \n",
    "When these are computed, they are automatically stored in the `SortingExtractor` object, so that they don't need to be recomputed. \n",
    "\n",
    "Each waveform is associated with a specific spike, so they are saved as spike *features*:\n"
   ]
  },
  {
   "cell_type": "markdown",
   "id": "assigned-pride",
   "metadata": {},
   "source": [
    "Note that we only selected a subset of waveforms above to speed up the computation, in truth there are a lot more spikes:"
   ]
  },
  {
   "cell_type": "code",
   "execution_count": null,
   "id": "regulation-password",
   "metadata": {
    "id": "regulation-password",
    "outputId": "d2533c4a-9716-48ab-b552-236ed7126ec8"
   },
   "outputs": [],
   "source": [
    "len(sorting_MS4.get_unit_spike_train(1))"
   ]
  },
  {
   "cell_type": "markdown",
   "id": "available-lender",
   "metadata": {},
   "source": [
    "The `waveform_idxs` property contains the spike indexes associated with the waveforms."
   ]
  },
  {
   "cell_type": "code",
   "execution_count": null,
   "id": "fuzzy-gentleman",
   "metadata": {
    "id": "fuzzy-gentleman",
    "outputId": "d7d2ac3d-41e2-44a5-ec4d-1f0badc36389"
   },
   "outputs": [],
   "source": [
    "sorting_MS4.get_shared_unit_spike_feature_names()"
   ]
  },
  {
   "cell_type": "code",
   "execution_count": null,
   "id": "executive-acrylic",
   "metadata": {
    "id": "executive-acrylic",
    "outputId": "c278007a-1767-41bd-8485-595ba7dd0dfd"
   },
   "outputs": [],
   "source": [
    "print(sorting_MS4.get_unit_spike_features(1, 'waveforms_idxs'))"
   ]
  },
  {
   "cell_type": "markdown",
   "id": "duplicate-mathematics",
   "metadata": {},
   "source": [
    "Since waveforms are already computed, the next time we (or another function - e.g. `get_unit_templates()`) call it it will just return the stored waveforms."
   ]
  },
  {
   "cell_type": "code",
   "execution_count": null,
   "id": "different-dubai",
   "metadata": {},
   "outputs": [],
   "source": [
    "waveforms = st.postprocessing.get_unit_waveforms(r_cache, sorting_MS4, verbose=True)"
   ]
  },
  {
   "cell_type": "markdown",
   "id": "focal-state",
   "metadata": {},
   "source": [
    "Lighthing fast! \n",
    "\n",
    "If we want to recompute the waveforms, for example because we want to extract the waveforms divided by group, we can use the `recompute_info` argument (available for all `postprocessing`, `validation`, and `curation` functions)."
   ]
  },
  {
   "cell_type": "markdown",
   "id": "featured-communications",
   "metadata": {},
   "source": [
    "Where are waveforms stored? We have seen above that each `Extractor` object has an associated tmp folder. Waveforms (and other features, e.g. pca scores) are stored in this folder as binary files:"
   ]
  },
  {
   "cell_type": "code",
   "execution_count": null,
   "id": "british-anniversary",
   "metadata": {
    "id": "british-anniversary",
    "outputId": "edca8613-cb64-4c73-ac4a-78bf63fa517f"
   },
   "outputs": [],
   "source": [
    "tmp_folder = sorting_MS4.get_tmp_folder()\n",
    "print(tmp_folder)\n",
    "print([(p.name) for p in tmp_folder.iterdir()])"
   ]
  },
  {
   "cell_type": "code",
   "execution_count": null,
   "id": "parliamentary-shame",
   "metadata": {
    "id": "parliamentary-shame",
    "outputId": "26e7e299-25c5-4e97-da59-04a427a2178d"
   },
   "outputs": [],
   "source": [
    "waveforms_group = st.postprocessing.get_unit_waveforms(\n",
    "    r_cache,\n",
    "    sorting_MS4,\n",
    "    max_spikes_per_unit=None, \n",
    "    grouping_property='group',\n",
    "    recompute_info=True,\n",
    "    verbose=True\n",
    ")"
   ]
  },
  {
   "cell_type": "code",
   "execution_count": null,
   "id": "parallel-trout",
   "metadata": {
    "id": "parallel-trout",
    "outputId": "f4a8003f-7ddd-40ae-9a21-d800c696d7e4"
   },
   "outputs": [],
   "source": [
    "sorting_MS4.get_shared_unit_property_names()"
   ]
  },
  {
   "cell_type": "code",
   "execution_count": null,
   "id": "saving-forge",
   "metadata": {
    "id": "saving-forge",
    "outputId": "2dd981f3-c519-499d-b65a-58a73c48573d"
   },
   "outputs": [],
   "source": [
    "for wf in waveforms_group:\n",
    "    print(wf.shape)"
   ]
  },
  {
   "cell_type": "markdown",
   "id": "alternate-civilian",
   "metadata": {},
   "source": [
    "We can use `spikewidgets` to quickly inspect the spike sorting output:"
   ]
  },
  {
   "cell_type": "code",
   "execution_count": null,
   "id": "outside-tiger",
   "metadata": {},
   "outputs": [],
   "source": [
    "dir_name"
   ]
  },
  {
   "cell_type": "code",
   "execution_count": null,
   "id": "destroyed-renewal",
   "metadata": {},
   "outputs": [],
   "source": [
    "unit_ids = sorting_MS4.get_unit_ids()"
   ]
  },
  {
   "cell_type": "code",
   "execution_count": null,
   "id": "linear-occasion",
   "metadata": {
    "id": "linear-occasion",
    "outputId": "2dc097bb-17d8-4ef5-af1b-5515adde7410"
   },
   "outputs": [],
   "source": [
    "w_wf = sw.plot_unit_templates(sorting=sorting_MS4, recording=r_cache, unit_ids=unit_ids[0:3], radius=50, lw=.5)"
   ]
  },
  {
   "cell_type": "markdown",
   "id": "5cb6a7b2",
   "metadata": {},
   "source": [
    "The example recording we are using is probably too short to create sensible autocorrelograms."
   ]
  },
  {
   "cell_type": "code",
   "execution_count": null,
   "id": "behind-transmission",
   "metadata": {
    "id": "behind-transmission",
    "outputId": "c6eb8615-7062-4fcb-84ff-c1eefd2f19ef"
   },
   "outputs": [],
   "source": [
    "w_acc = sw.plot_autocorrelograms(sorting_MS4, unit_ids=unit_ids[0:6])"
   ]
  },
  {
   "cell_type": "markdown",
   "id": "incomplete-bankruptcy",
   "metadata": {
    "id": "incomplete-bankruptcy"
   },
   "source": [
    "### Compute extracellular features\n",
    "[back to index](#index)\n",
    "\n",
    "Extracellular features, such as peak to valley duration or full-width half maximum, are important to classify neurons into putative classes (excitatory - inhibitory). The `postprocessing` module of `spiketoolkit` allows one to compute several of these features:"
   ]
  },
  {
   "cell_type": "code",
   "execution_count": null,
   "id": "metric-makeup",
   "metadata": {
    "id": "metric-makeup",
    "outputId": "a1ae3196-461f-46ea-aa22-18f7530a803e"
   },
   "outputs": [],
   "source": [
    "st.postprocessing.get_template_features_list()"
   ]
  },
  {
   "cell_type": "code",
   "execution_count": null,
   "id": "false-transmission",
   "metadata": {
    "id": "false-transmission",
    "outputId": "387766f9-6a88-4a29-ab36-5b625b5e04cf"
   },
   "outputs": [],
   "source": [
    "features = st.postprocessing.compute_unit_template_features(\n",
    "    r_cache, \n",
    "    sorting_MS4, \n",
    "    as_dataframe=True, \n",
    "    upsampling_factor=10\n",
    ")\n",
    "display(features)"
   ]
  },
  {
   "cell_type": "markdown",
   "id": "declared-factory",
   "metadata": {
    "id": "declared-factory"
   },
   "source": [
    "For more information about these waveform features, we refer to this [documentation](https://github.com/AllenInstitute/ecephys_spike_sorting/tree/master/ecephys_spike_sorting/modules/mean_waveforms) from the Allen Institute."
   ]
  },
  {
   "cell_type": "markdown",
   "id": "accredited-charity",
   "metadata": {},
   "source": [
    "### Validation\n",
    "[back to index](#index)\n",
    "\n",
    "The `spiketoolkit` package also provides several functions to compute qualitity metrics about the spike sorting results through the `validation` module.\n",
    "\n",
    "Let's see what metrics are available:"
   ]
  },
  {
   "cell_type": "code",
   "execution_count": null,
   "id": "secure-gambling",
   "metadata": {},
   "outputs": [],
   "source": [
    "st.validation.get_quality_metrics_list()"
   ]
  },
  {
   "cell_type": "markdown",
   "id": "behavioral-wallpaper",
   "metadata": {},
   "source": [
    "We can compute a subset of quality metrics using the `compute_quality_metrics` function. \n"
   ]
  },
  {
   "cell_type": "code",
   "execution_count": null,
   "id": "duplicate-bicycle",
   "metadata": {
    "id": "duplicate-bicycle",
    "outputId": "1df0e432-5540-4282-cb73-1ebd359be9b1",
    "scrolled": true
   },
   "outputs": [],
   "source": [
    "quality_metrics = st.validation.compute_quality_metrics(\n",
    "    sorting_MS4, \n",
    "    r_cache, \n",
    "    metric_names=['firing_rate', 'isi_violation', 'snr'], \n",
    "    as_dataframe=True\n",
    ")\n",
    "display(quality_metrics)"
   ]
  },
  {
   "cell_type": "markdown",
   "id": "6e2ea087",
   "metadata": {},
   "source": [
    "Select units with few isi violations."
   ]
  },
  {
   "cell_type": "code",
   "execution_count": null,
   "id": "constant-rubber",
   "metadata": {},
   "outputs": [],
   "source": [
    "unit_ids_of_interest = quality_metrics.loc[quality_metrics['isi_violation'] < 10,:].index.values"
   ]
  },
  {
   "cell_type": "code",
   "execution_count": null,
   "id": "concerned-broad",
   "metadata": {},
   "outputs": [],
   "source": [
    "templates = st.postprocessing.get_unit_templates(\n",
    "    r_cache, sorting_MS4, max_spikes_per_unit=200,\n",
    "    unit_ids=unit_ids_of_interest,\n",
    "    save_as_property=True, verbose=True\n",
    ")\n",
    "\n",
    "fig, ax = plt.subplots()\n",
    "ax.plot(templates[0].T, color='k')\n",
    "ax.plot(templates[1].T, color='r')\n",
    "ax.plot(templates[2].T, color='b')"
   ]
  },
  {
   "cell_type": "markdown",
   "id": "injured-affect",
   "metadata": {
    "id": "injured-affect"
   },
   "source": [
    "<a id=\"spike_curation\"></a>\n",
    "# 7. Curation\n",
    "[back to index](#index)"
   ]
  },
  {
   "cell_type": "markdown",
   "id": "contemporary-riding",
   "metadata": {
    "id": "contemporary-riding"
   },
   "source": [
    "### 1) Manual curation using Phy\n",
    "\n",
    "To perform manual curation we will export the data to [Phy](https://github.com/cortex-lab/phy). "
   ]
  },
  {
   "cell_type": "code",
   "execution_count": null,
   "id": "legal-bridal",
   "metadata": {
    "id": "legal-bridal",
    "outputId": "41b64a1f-b896-46ad-dd6d-b34153211c1a"
   },
   "outputs": [],
   "source": [
    "st.postprocessing.export_to_phy(\n",
    "    r_cache, \n",
    "    sorting_MS4,\n",
    "    output_folder='phy_MS4',\n",
    "    grouping_property='group', \n",
    "    verbose=True, \n",
    "    recompute_info=True\n",
    ")"
   ]
  },
  {
   "cell_type": "markdown",
   "id": "accurate-mauritius",
   "metadata": {},
   "source": [
    "If you have trouble using the GUI from phy have a look at the instructions here: https://github.com/cortex-lab/phy."
   ]
  },
  {
   "cell_type": "code",
   "execution_count": null,
   "id": "lasting-brighton",
   "metadata": {},
   "outputs": [],
   "source": [
    "!phy template-gui phy_MS4/params.py"
   ]
  },
  {
   "cell_type": "markdown",
   "id": "agricultural-revelation",
   "metadata": {
    "id": "agricultural-revelation"
   },
   "source": [
    "After curating the results we can reload it using the PhySortingExtractor:"
   ]
  },
  {
   "cell_type": "code",
   "execution_count": null,
   "id": "scenic-syracuse",
   "metadata": {
    "id": "scenic-syracuse",
    "outputId": "7cccbbde-62fc-40a2-e34e-fc0dc878012a"
   },
   "outputs": [],
   "source": [
    "sorting_MS4_phy_curated = se.PhySortingExtractor('phy_MS4/', exclude_cluster_groups=['noise'])"
   ]
  },
  {
   "cell_type": "code",
   "execution_count": null,
   "id": "presidential-state",
   "metadata": {
    "id": "presidential-state",
    "outputId": "6face789-1f1c-4139-a942-206aa1f65263"
   },
   "outputs": [],
   "source": [
    "print(len(sorting_MS4_phy_curated.get_unit_ids()))\n",
    "print(f\"Unit ids after manual curation: {sorting_MS4_phy_curated.get_unit_ids()}\")"
   ]
  },
  {
   "cell_type": "code",
   "execution_count": null,
   "id": "reverse-passing",
   "metadata": {},
   "outputs": [],
   "source": [
    "_ = [print(sorting_MS4_phy_curated.get_unit_property(i, 'quality')) for i in sorting_MS4_phy_curated.get_unit_ids()]"
   ]
  },
  {
   "cell_type": "markdown",
   "id": "bulgarian-adult",
   "metadata": {
    "id": "bulgarian-adult"
   },
   "source": [
    "### b) Automatic curation based on quality metrics\n",
    "[back to index](#index)\n",
    "\n",
    "We will demonstrate here how to select subsets of candidate units based on the quality metrics inter-spike interval (isi) and signal to noise ratio (snr)."
   ]
  },
  {
   "cell_type": "code",
   "execution_count": null,
   "id": "lesser-collective",
   "metadata": {},
   "outputs": [],
   "source": [
    "st.curation.threshold_isi_violations?"
   ]
  },
  {
   "cell_type": "code",
   "execution_count": null,
   "id": "dynamic-florist",
   "metadata": {
    "id": "dynamic-florist"
   },
   "outputs": [],
   "source": [
    "snr_thresh = 4\n",
    "isi_viol_thresh = 0.0015\n",
    "duration = r_cache.get_num_frames()"
   ]
  },
  {
   "cell_type": "code",
   "execution_count": null,
   "id": "lasting-world",
   "metadata": {},
   "outputs": [],
   "source": [
    "isi_violations = st.validation.compute_isi_violations(\n",
    "    sorting_MS4, \n",
    "    duration_in_frames=r_cache.get_num_frames(), \n",
    "    isi_threshold=0.0015\n",
    ")"
   ]
  },
  {
   "cell_type": "code",
   "execution_count": null,
   "id": "declared-empty",
   "metadata": {},
   "outputs": [],
   "source": [
    "isi_violations"
   ]
  },
  {
   "cell_type": "code",
   "execution_count": null,
   "id": "personal-accessory",
   "metadata": {
    "id": "personal-accessory"
   },
   "outputs": [],
   "source": [
    "sorting_auto_MS4 = st.curation.threshold_isi_violations(sorting_MS4, isi_viol_thresh, 'greater', duration)\n",
    "sorting_auto_SC = st.curation.threshold_isi_violations(sorting_SC, isi_viol_thresh, 'greater', duration)"
   ]
  },
  {
   "cell_type": "code",
   "execution_count": null,
   "id": "accessible-massage",
   "metadata": {
    "id": "accessible-massage",
    "outputId": "837e3757-5d56-4ed2-d81e-57c97f3aff75"
   },
   "outputs": [],
   "source": [
    "print('Number of units Mountainsort4: {}'.format(len(sorting_auto_MS4.get_unit_ids())))\n",
    "print('Number of units Spyking Circus: {}'.format(len(sorting_auto_SC.get_unit_ids())))"
   ]
  },
  {
   "cell_type": "code",
   "execution_count": null,
   "id": "portable-voice",
   "metadata": {
    "id": "portable-voice"
   },
   "outputs": [],
   "source": [
    "sorting_auto_MS4 = st.curation.threshold_snrs(sorting_auto_MS4, r_cache, snr_thresh, 'less')\n",
    "sorting_auto_SC = st.curation.threshold_snrs(sorting_auto_SC, r_cache, snr_thresh, 'less')"
   ]
  },
  {
   "cell_type": "code",
   "execution_count": null,
   "id": "assisted-coffee",
   "metadata": {
    "id": "assisted-coffee",
    "outputId": "dc03b4b9-c13b-4ad8-814f-d8aa22de3389"
   },
   "outputs": [],
   "source": [
    "print('Number of units Mountainsort4: {}'.format(len(sorting_auto_MS4.get_unit_ids())))\n",
    "print('Number of units Spyking Circus: {}'.format(len(sorting_auto_SC.get_unit_ids())))"
   ]
  },
  {
   "cell_type": "markdown",
   "id": "passing-circulation",
   "metadata": {
    "id": "passing-circulation"
   },
   "source": [
    "### c) Consensus-based curation\n",
    "[back to index](#index)"
   ]
  },
  {
   "cell_type": "markdown",
   "id": "separated-dimension",
   "metadata": {
    "id": "separated-dimension"
   },
   "source": [
    "Can we combine the output of multiple sorters to curate the spike sorting output?\n",
    "\n",
    "Yes, with the `spikecomparison` module we can compare and match the output spike trains of the different sorters, and retrieve a new sorting extractor object containing only the units that were in agreement."
   ]
  },
  {
   "cell_type": "code",
   "execution_count": null,
   "id": "artificial-designer",
   "metadata": {
    "id": "artificial-designer",
    "outputId": "9e9c3e22-7b75-4c1d-fa66-a7944be1516f"
   },
   "outputs": [],
   "source": [
    "mcmp = sc.compare_multiple_sorters(\n",
    "    [sorting_auto_SC, sorting_auto_MS4], \n",
    "    ['SC', 'MS4'], \n",
    "    spiketrain_mode='union',\n",
    "    verbose=True\n",
    ")"
   ]
  },
  {
   "cell_type": "code",
   "execution_count": null,
   "id": "clear-panel",
   "metadata": {
    "id": "clear-panel",
    "outputId": "d4d7bff1-f168-4a56-c9d0-56476939c168"
   },
   "outputs": [],
   "source": [
    "w = sw.plot_multicomp_agreement(mcmp)\n",
    "w = sw.plot_multicomp_agreement_by_sorter(mcmp)"
   ]
  },
  {
   "cell_type": "code",
   "execution_count": null,
   "id": "economic-county",
   "metadata": {
    "id": "economic-county"
   },
   "outputs": [],
   "source": [
    "agreement_sorting = mcmp.get_agreement_sorting(minimum_agreement_count=2)"
   ]
  },
  {
   "cell_type": "code",
   "execution_count": null,
   "id": "classical-italy",
   "metadata": {
    "id": "classical-italy",
    "outputId": "e1475179-3643-4a94-dc2d-735b051253fd"
   },
   "outputs": [],
   "source": [
    "agreement_sorting.get_unit_ids()"
   ]
  },
  {
   "cell_type": "code",
   "execution_count": null,
   "id": "atomic-notice",
   "metadata": {
    "id": "atomic-notice",
    "outputId": "118ee0af-0c45-441f-dc11-f0e21c0f71c2"
   },
   "outputs": [],
   "source": [
    "cmp_manual_agr = sc.compare_sorter_to_ground_truth(sorting_MS4_phy_curated, agreement_sorting)"
   ]
  },
  {
   "cell_type": "code",
   "execution_count": null,
   "id": "closing-factory",
   "metadata": {
    "id": "closing-factory"
   },
   "outputs": [],
   "source": [
    "w_agr = sw.plot_agreement_matrix(cmp_manual_agr)"
   ]
  },
  {
   "cell_type": "code",
   "execution_count": null,
   "id": "elementary-cabin",
   "metadata": {},
   "outputs": [],
   "source": [
    "w_wf = sw.plot_unit_templates(sorting=agreement_sorting, recording=r_cache, unit_ids=[1])"
   ]
  },
  {
   "cell_type": "code",
   "execution_count": null,
   "id": "broadband-induction",
   "metadata": {
    "id": "broadband-induction"
   },
   "outputs": [],
   "source": [
    "st.postprocessing.export_to_phy(\n",
    "    r_cache, \n",
    "    agreement_sorting, \n",
    "    output_folder='phy_AGR',\n",
    "    grouping_property='group', \n",
    "    verbose=True, \n",
    "    recompute_info=True\n",
    ")"
   ]
  },
  {
   "cell_type": "markdown",
   "id": "cognitive-warehouse",
   "metadata": {
    "id": "cognitive-warehouse"
   },
   "source": [
    "<a id=\"export_nwb\"></a>\n",
    "# 8. Save to / load from NWB\n",
    "[back to index](#index)\n",
    "\n",
    "In this section we briefly go through the process of exporting recording extractor and sorting extractor objects to the `nwb` file format. We will use the `spikeextractors` classes `NwbRecordingExtractor` and `NwbSortingExtractor`. It can be useful to pass metadata to the `nwb` file during export (i.e. data that describes the ecephys data in this case) and we illustrate this here by passing information about the recording device."
   ]
  },
  {
   "cell_type": "code",
   "execution_count": null,
   "id": "about-nightmare",
   "metadata": {},
   "outputs": [],
   "source": [
    "from pynwb import NWBFile, NWBHDF5IO\n",
    "from pathlib import Path\n",
    "from nwb_conversion_tools.utils.spike_interface import write_recording, write_sorting"
   ]
  },
  {
   "cell_type": "code",
   "execution_count": null,
   "id": "frank-destination",
   "metadata": {
    "id": "frank-destination"
   },
   "outputs": [],
   "source": [
    "metadata = {'Ecephys': {'Device': [{'name': 'Intan',\n",
    "                                    'description': 'Intan acquisition system'}]}}"
   ]
  },
  {
   "cell_type": "code",
   "execution_count": null,
   "id": "convertible-farmer",
   "metadata": {},
   "outputs": [],
   "source": [
    "nwb_dir = Path(dir_name, 'nwb')\n",
    "\n",
    "nwb_dir.mkdir(parents=True, exist_ok=True)"
   ]
  },
  {
   "cell_type": "code",
   "execution_count": null,
   "id": "signal-general",
   "metadata": {
    "id": "signal-general",
    "scrolled": false
   },
   "outputs": [],
   "source": [
    "write_recording(r_cache, nwb_dir / 'intan_data_1.nwb', metadata=metadata)"
   ]
  },
  {
   "cell_type": "code",
   "execution_count": null,
   "id": "5c0bae4a",
   "metadata": {},
   "outputs": [],
   "source": [
    "write_sorting(sorting_MS4_phy_curated, nwb_dir / 'intan_data_1.nwb')"
   ]
  },
  {
   "cell_type": "markdown",
   "id": "536f878c",
   "metadata": {},
   "source": [
    "(Re-)load data into recording and sorting extractor."
   ]
  },
  {
   "cell_type": "code",
   "execution_count": null,
   "id": "spatial-stability",
   "metadata": {
    "id": "spatial-stability"
   },
   "outputs": [],
   "source": [
    "recording_nwb = se.NwbRecordingExtractor(nwb_dir / 'intan_data_1.nwb')"
   ]
  },
  {
   "cell_type": "code",
   "execution_count": null,
   "id": "specific-weekend",
   "metadata": {
    "scrolled": true
   },
   "outputs": [],
   "source": [
    "sorting_nwb = se.NwbSortingExtractor(nwb_dir / 'intan_data_1.nwb', sampling_frequency=30000)"
   ]
  },
  {
   "cell_type": "markdown",
   "id": "14e719b2",
   "metadata": {
    "id": "relevant-silicon"
   },
   "source": [
    "---\n",
    "I hope this notebook was helpful to you. If you have any suggestions, questions or concerns do not hesitate to contact me at `steffen.burgers@catalystneuro.com`."
   ]
  }
 ],
 "metadata": {
  "colab": {
   "collapsed_sections": [
    "initial-richards",
    "honey-bangladesh",
    "disabled-stand",
    "naked-affair",
    "intimate-professional",
    "minus-output",
    "infrared-garage",
    "formed-equity",
    "lightweight-tuition",
    "certified-withdrawal",
    "undefined-satin",
    "respiratory-charter",
    "alive-plate",
    "incomplete-bankruptcy",
    "injured-affect",
    "contemporary-riding",
    "bulgarian-adult",
    "passing-circulation",
    "cognitive-warehouse",
    "unexpected-handling"
   ],
   "name": "milestone2_modular_pipeline_colab.ipynb",
   "provenance": []
  },
  "kernelspec": {
   "display_name": "Python3 (hussaini test2)",
   "language": "python",
   "name": "hussaini_test2"
  },
  "language_info": {
   "codemirror_mode": {
    "name": "ipython",
    "version": 3
   },
   "file_extension": ".py",
   "mimetype": "text/x-python",
   "name": "python",
   "nbconvert_exporter": "python",
   "pygments_lexer": "ipython3",
   "version": "3.8.5"
  }
 },
 "nbformat": 4,
 "nbformat_minor": 5
}
